{
  "nbformat": 4,
  "nbformat_minor": 0,
  "metadata": {
    "colab": {
      "provenance": [],
      "mount_file_id": "https://github.com/EduardoMoraesRitter/spark/blob/main/SPARK_introdu%C3%A7%C3%A3o.ipynb",
      "authorship_tag": "ABX9TyN9YrNT7veKdvTUcUER01/r",
      "include_colab_link": true
    },
    "kernelspec": {
      "name": "python3",
      "display_name": "Python 3"
    },
    "language_info": {
      "name": "python"
    }
  },
  "cells": [
    {
      "cell_type": "markdown",
      "metadata": {
        "id": "view-in-github",
        "colab_type": "text"
      },
      "source": [
        "<a href=\"https://colab.research.google.com/github/EduardoMoraesRitter/spark/blob/main/SPARK_introdu%C3%A7%C3%A3o.ipynb\" target=\"_parent\"><img src=\"https://colab.research.google.com/assets/colab-badge.svg\" alt=\"Open In Colab\"/></a>"
      ]
    },
    {
      "cell_type": "markdown",
      "source": [
        "#Instalando spark de outra forma"
      ],
      "metadata": {
        "id": "VkqhiQCln28Y"
      }
    },
    {
      "cell_type": "code",
      "source": [
        "# instalar as dependências\n",
        "!apt-get install openjdk-8-jdk-headless -qq > /dev/null\n",
        "!wget -q https://archive.apache.org/dist/spark/spark-3.3.1/spark-3.3.1-bin-hadoop3.tgz\n",
        "!tar xf spark-3.3.1-bin-hadoop3.tgz\n",
        "!pip install -q findspark"
      ],
      "metadata": {
        "id": "WSMixq5dtXJr"
      },
      "execution_count": 1,
      "outputs": []
    },
    {
      "cell_type": "code",
      "source": [
        "#colocar varievel de ambiente\n",
        "import os\n",
        "os.environ[\"JAVA_HOME\"] = \"/usr/lib/jvm/java-8-openjdk-amd64\"\n",
        "os.environ[\"SPARK_HOME\"] = \"/content/spark-3.3.1-bin-hadoop3\"\n",
        "\n",
        "# findspark é uma biblioteca que permite importar pacotes necessários para o funcionamento do PySpark\n",
        "import findspark\n",
        "\n",
        "# Iniciando o findspark\n",
        "findspark.init()"
      ],
      "metadata": {
        "id": "WE26E2O2t1Ww"
      },
      "execution_count": 2,
      "outputs": []
    },
    {
      "cell_type": "markdown",
      "source": [
        "#Instalando pyspark no Colab"
      ],
      "metadata": {
        "id": "t0sszCY7YK9G"
      }
    },
    {
      "cell_type": "code",
      "source": [
        "!pip install pyspark"
      ],
      "metadata": {
        "id": "fkD40bqQdrRO",
        "outputId": "60010afb-f38e-4d8d-ad33-08c5b62f70b9",
        "colab": {
          "base_uri": "https://localhost:8080/"
        }
      },
      "execution_count": 1,
      "outputs": [
        {
          "output_type": "stream",
          "name": "stdout",
          "text": [
            "Looking in indexes: https://pypi.org/simple, https://us-python.pkg.dev/colab-wheels/public/simple/\n",
            "Collecting pyspark\n",
            "  Downloading pyspark-3.3.1.tar.gz (281.4 MB)\n",
            "\u001b[K     |████████████████████████████████| 281.4 MB 44 kB/s \n",
            "\u001b[?25hCollecting py4j==0.10.9.5\n",
            "  Downloading py4j-0.10.9.5-py2.py3-none-any.whl (199 kB)\n",
            "\u001b[K     |████████████████████████████████| 199 kB 63.9 MB/s \n",
            "\u001b[?25hBuilding wheels for collected packages: pyspark\n",
            "  Building wheel for pyspark (setup.py) ... \u001b[?25l\u001b[?25hdone\n",
            "  Created wheel for pyspark: filename=pyspark-3.3.1-py2.py3-none-any.whl size=281845512 sha256=1435020782be0e32baa32db1f712eec75ff09d1a6c908ecbc8f3569e39b326b3\n",
            "  Stored in directory: /root/.cache/pip/wheels/43/dc/11/ec201cd671da62fa9c5cc77078235e40722170ceba231d7598\n",
            "Successfully built pyspark\n",
            "Installing collected packages: py4j, pyspark\n",
            "Successfully installed py4j-0.10.9.5 pyspark-3.3.1\n"
          ]
        }
      ]
    },
    {
      "cell_type": "markdown",
      "source": [
        "#Importando o SparkContext"
      ],
      "metadata": {
        "id": "FgmiDe3hYOP3"
      }
    },
    {
      "cell_type": "code",
      "source": [
        "from pyspark.sql import SparkSession"
      ],
      "metadata": {
        "id": "7m4m7eAWotew"
      },
      "execution_count": 2,
      "outputs": []
    },
    {
      "cell_type": "markdown",
      "source": [
        "#Criando um contexto para o Spark e colocando na variavel **spark**"
      ],
      "metadata": {
        "id": "YEYMBWtHYVcA"
      }
    },
    {
      "cell_type": "code",
      "source": [
        "#master('local[*]') - quantas maquinas ou processadores vai usar paralelo\n",
        "spark = SparkSession.builder \\\n",
        "    .master('local[*]') \\\n",
        "    .appName('Iniciando com Spark') \\\n",
        "    .config('spark.ui.port', '4050') \\\n",
        "    .getOrCreate()\n",
        "\n",
        "spark\n",
        "\n",
        "#ou ja cria o contexto direto\n",
        "#spark = SparkContext()"
      ],
      "metadata": {
        "id": "-pu8Ge_OdvlL",
        "outputId": "6b219707-8193-40ba-9026-09aad3ae4f3e",
        "colab": {
          "base_uri": "https://localhost:8080/",
          "height": 0
        }
      },
      "execution_count": 3,
      "outputs": [
        {
          "output_type": "execute_result",
          "data": {
            "text/plain": [
              "<pyspark.sql.session.SparkSession at 0x7f3cfc653850>"
            ],
            "text/html": [
              "\n",
              "            <div>\n",
              "                <p><b>SparkSession - in-memory</b></p>\n",
              "                \n",
              "        <div>\n",
              "            <p><b>SparkContext</b></p>\n",
              "\n",
              "            <p><a href=\"http://d936ea0d7b2d:4050\">Spark UI</a></p>\n",
              "\n",
              "            <dl>\n",
              "              <dt>Version</dt>\n",
              "                <dd><code>v3.3.1</code></dd>\n",
              "              <dt>Master</dt>\n",
              "                <dd><code>local[*]</code></dd>\n",
              "              <dt>AppName</dt>\n",
              "                <dd><code>Iniciando com Spark</code></dd>\n",
              "            </dl>\n",
              "        </div>\n",
              "        \n",
              "            </div>\n",
              "        "
            ]
          },
          "metadata": {},
          "execution_count": 3
        }
      ]
    },
    {
      "cell_type": "markdown",
      "source": [
        "#Para acessando o SparkUI no ColabSpark precisa do NGROK *opcional\n",
        "para visializar os processoa nuvem precisa fazer atravez do tunel do ngrok"
      ],
      "metadata": {
        "id": "xj-vvcp4ZpfL"
      }
    },
    {
      "cell_type": "code",
      "source": [
        "!wget -q https://bin.equinox.io/c/4VmDzA7iaHb/ngrok-stable-linux-amd64.zip\n",
        "!unzip ngrok-stable-linux-amd64.zip"
      ],
      "metadata": {
        "colab": {
          "base_uri": "https://localhost:8080/"
        },
        "id": "w4gbMc7tdyAS",
        "outputId": "ce2f0e8e-85c3-4192-95dc-05a73f8c40ea"
      },
      "execution_count": 4,
      "outputs": [
        {
          "output_type": "stream",
          "name": "stdout",
          "text": [
            "Archive:  ngrok-stable-linux-amd64.zip\n",
            "  inflating: ngrok                   \n"
          ]
        }
      ]
    },
    {
      "cell_type": "code",
      "source": [
        "#pegar o token no site: https://dashboard.ngrok.com/get-started/your-authtoken\n",
        "get_ipython().system_raw('./ngrok authtoken 123')\n",
        "get_ipython().system_raw('./ngrok http 4050 &')"
      ],
      "metadata": {
        "id": "lMLzNntHaxbi"
      },
      "execution_count": 5,
      "outputs": []
    },
    {
      "cell_type": "code",
      "source": [
        "!curl -s http://localhost:4040/api/tunnels"
      ],
      "metadata": {
        "id": "s7ybQXmspinW",
        "outputId": "7ece9549-e3f9-4d5a-962f-4120bfa157c7",
        "colab": {
          "base_uri": "https://localhost:8080/"
        }
      },
      "execution_count": 7,
      "outputs": [
        {
          "output_type": "stream",
          "name": "stdout",
          "text": [
            "{\"tunnels\":[{\"name\":\"command_line\",\"uri\":\"/api/tunnels/command_line\",\"public_url\":\"https://99e1-34-83-166-70.ngrok.io\",\"proto\":\"https\",\"config\":{\"addr\":\"http://localhost:4050\",\"inspect\":true},\"metrics\":{\"conns\":{\"count\":0,\"gauge\":0,\"rate1\":0,\"rate5\":0,\"rate15\":0,\"p50\":0,\"p90\":0,\"p95\":0,\"p99\":0},\"http\":{\"count\":0,\"rate1\":0,\"rate5\":0,\"rate15\":0,\"p50\":0,\"p90\":0,\"p95\":0,\"p99\":0}}},{\"name\":\"command_line (http)\",\"uri\":\"/api/tunnels/command_line%20%28http%29\",\"public_url\":\"http://99e1-34-83-166-70.ngrok.io\",\"proto\":\"http\",\"config\":{\"addr\":\"http://localhost:4050\",\"inspect\":true},\"metrics\":{\"conns\":{\"count\":0,\"gauge\":0,\"rate1\":0,\"rate5\":0,\"rate15\":0,\"p50\":0,\"p90\":0,\"p95\":0,\"p99\":0},\"http\":{\"count\":0,\"rate1\":0,\"rate5\":0,\"rate15\":0,\"p50\":0,\"p90\":0,\"p95\":0,\"p99\":0}}}],\"uri\":\"/api/tunnels\"}\n"
          ]
        }
      ]
    },
    {
      "cell_type": "markdown",
      "source": [
        "#3 interfaces do Spark: \n",
        "\n",
        "*   RDD - Resilient Distributed Dataset (\"Conjunto de dados distribuídos resilientes\", elementos particinados nos nós dos clusters o perados em paralelos, nivel mais baixo; \n",
        "*   DataFrame é um super API de conjunto, similar pandas dataframe;\n",
        "*   Dataset mais recente uma API tipagem forte que mistura o RDD com DF, dispovivel so em JAVA e SCALA;"
      ],
      "metadata": {
        "id": "HIMD7OU1cCJw"
      }
    },
    {
      "cell_type": "code",
      "source": [
        "#dataframe\n",
        "data = [('Zeca', '35'), ('Eva', '29')]\n",
        "colNames = ['Nome', 'Idade']\n",
        "df = spark.createDataFrame(data, colNames)\n",
        "df\n",
        "\n",
        "#ou em JSON\n",
        "# data = {'Nome': ['Zeca', 'Eva'], 'Idade': ['35', '29']}\n",
        "# df = spark.createDataFrame(data)"
      ],
      "metadata": {
        "id": "Hy7HxxeAbKTu",
        "outputId": "5b2d06b9-390a-4f65-cdda-e9018be7ffef",
        "colab": {
          "base_uri": "https://localhost:8080/"
        }
      },
      "execution_count": 4,
      "outputs": [
        {
          "output_type": "execute_result",
          "data": {
            "text/plain": [
              "DataFrame[Nome: string, Idade: string]"
            ]
          },
          "metadata": {},
          "execution_count": 4
        }
      ]
    },
    {
      "cell_type": "code",
      "source": [
        "# visualizar \n",
        "df.show()"
      ],
      "metadata": {
        "id": "bEyX5rSOhA9_",
        "outputId": "1720c1bc-6aac-458a-b404-bdbee92f3664",
        "colab": {
          "base_uri": "https://localhost:8080/"
        }
      },
      "execution_count": 5,
      "outputs": [
        {
          "output_type": "stream",
          "name": "stdout",
          "text": [
            "+----+-----+\n",
            "|Nome|Idade|\n",
            "+----+-----+\n",
            "|Zeca|   35|\n",
            "| Eva|   29|\n",
            "+----+-----+\n",
            "\n"
          ]
        }
      ]
    },
    {
      "cell_type": "code",
      "source": [
        "# converter pra panda e visualizar\n",
        "df.toPandas()"
      ],
      "metadata": {
        "id": "kuI37X45hEg6",
        "outputId": "787206ea-8dbe-44cf-c87f-14cc34c8b98f",
        "colab": {
          "base_uri": "https://localhost:8080/",
          "height": 0
        }
      },
      "execution_count": 6,
      "outputs": [
        {
          "output_type": "execute_result",
          "data": {
            "text/plain": [
              "   Nome Idade\n",
              "0  Zeca    35\n",
              "1   Eva    29"
            ],
            "text/html": [
              "\n",
              "  <div id=\"df-a8165c27-6899-4b90-9ed5-fa0cccce7a62\">\n",
              "    <div class=\"colab-df-container\">\n",
              "      <div>\n",
              "<style scoped>\n",
              "    .dataframe tbody tr th:only-of-type {\n",
              "        vertical-align: middle;\n",
              "    }\n",
              "\n",
              "    .dataframe tbody tr th {\n",
              "        vertical-align: top;\n",
              "    }\n",
              "\n",
              "    .dataframe thead th {\n",
              "        text-align: right;\n",
              "    }\n",
              "</style>\n",
              "<table border=\"1\" class=\"dataframe\">\n",
              "  <thead>\n",
              "    <tr style=\"text-align: right;\">\n",
              "      <th></th>\n",
              "      <th>Nome</th>\n",
              "      <th>Idade</th>\n",
              "    </tr>\n",
              "  </thead>\n",
              "  <tbody>\n",
              "    <tr>\n",
              "      <th>0</th>\n",
              "      <td>Zeca</td>\n",
              "      <td>35</td>\n",
              "    </tr>\n",
              "    <tr>\n",
              "      <th>1</th>\n",
              "      <td>Eva</td>\n",
              "      <td>29</td>\n",
              "    </tr>\n",
              "  </tbody>\n",
              "</table>\n",
              "</div>\n",
              "      <button class=\"colab-df-convert\" onclick=\"convertToInteractive('df-a8165c27-6899-4b90-9ed5-fa0cccce7a62')\"\n",
              "              title=\"Convert this dataframe to an interactive table.\"\n",
              "              style=\"display:none;\">\n",
              "        \n",
              "  <svg xmlns=\"http://www.w3.org/2000/svg\" height=\"24px\"viewBox=\"0 0 24 24\"\n",
              "       width=\"24px\">\n",
              "    <path d=\"M0 0h24v24H0V0z\" fill=\"none\"/>\n",
              "    <path d=\"M18.56 5.44l.94 2.06.94-2.06 2.06-.94-2.06-.94-.94-2.06-.94 2.06-2.06.94zm-11 1L8.5 8.5l.94-2.06 2.06-.94-2.06-.94L8.5 2.5l-.94 2.06-2.06.94zm10 10l.94 2.06.94-2.06 2.06-.94-2.06-.94-.94-2.06-.94 2.06-2.06.94z\"/><path d=\"M17.41 7.96l-1.37-1.37c-.4-.4-.92-.59-1.43-.59-.52 0-1.04.2-1.43.59L10.3 9.45l-7.72 7.72c-.78.78-.78 2.05 0 2.83L4 21.41c.39.39.9.59 1.41.59.51 0 1.02-.2 1.41-.59l7.78-7.78 2.81-2.81c.8-.78.8-2.07 0-2.86zM5.41 20L4 18.59l7.72-7.72 1.47 1.35L5.41 20z\"/>\n",
              "  </svg>\n",
              "      </button>\n",
              "      \n",
              "  <style>\n",
              "    .colab-df-container {\n",
              "      display:flex;\n",
              "      flex-wrap:wrap;\n",
              "      gap: 12px;\n",
              "    }\n",
              "\n",
              "    .colab-df-convert {\n",
              "      background-color: #E8F0FE;\n",
              "      border: none;\n",
              "      border-radius: 50%;\n",
              "      cursor: pointer;\n",
              "      display: none;\n",
              "      fill: #1967D2;\n",
              "      height: 32px;\n",
              "      padding: 0 0 0 0;\n",
              "      width: 32px;\n",
              "    }\n",
              "\n",
              "    .colab-df-convert:hover {\n",
              "      background-color: #E2EBFA;\n",
              "      box-shadow: 0px 1px 2px rgba(60, 64, 67, 0.3), 0px 1px 3px 1px rgba(60, 64, 67, 0.15);\n",
              "      fill: #174EA6;\n",
              "    }\n",
              "\n",
              "    [theme=dark] .colab-df-convert {\n",
              "      background-color: #3B4455;\n",
              "      fill: #D2E3FC;\n",
              "    }\n",
              "\n",
              "    [theme=dark] .colab-df-convert:hover {\n",
              "      background-color: #434B5C;\n",
              "      box-shadow: 0px 1px 3px 1px rgba(0, 0, 0, 0.15);\n",
              "      filter: drop-shadow(0px 1px 2px rgba(0, 0, 0, 0.3));\n",
              "      fill: #FFFFFF;\n",
              "    }\n",
              "  </style>\n",
              "\n",
              "      <script>\n",
              "        const buttonEl =\n",
              "          document.querySelector('#df-a8165c27-6899-4b90-9ed5-fa0cccce7a62 button.colab-df-convert');\n",
              "        buttonEl.style.display =\n",
              "          google.colab.kernel.accessAllowed ? 'block' : 'none';\n",
              "\n",
              "        async function convertToInteractive(key) {\n",
              "          const element = document.querySelector('#df-a8165c27-6899-4b90-9ed5-fa0cccce7a62');\n",
              "          const dataTable =\n",
              "            await google.colab.kernel.invokeFunction('convertToInteractive',\n",
              "                                                     [key], {});\n",
              "          if (!dataTable) return;\n",
              "\n",
              "          const docLinkHtml = 'Like what you see? Visit the ' +\n",
              "            '<a target=\"_blank\" href=https://colab.research.google.com/notebooks/data_table.ipynb>data table notebook</a>'\n",
              "            + ' to learn more about interactive tables.';\n",
              "          element.innerHTML = '';\n",
              "          dataTable['output_type'] = 'display_data';\n",
              "          await google.colab.output.renderOutput(dataTable, element);\n",
              "          const docLink = document.createElement('div');\n",
              "          docLink.innerHTML = docLinkHtml;\n",
              "          element.appendChild(docLink);\n",
              "        }\n",
              "      </script>\n",
              "    </div>\n",
              "  </div>\n",
              "  "
            ]
          },
          "metadata": {},
          "execution_count": 6
        }
      ]
    },
    {
      "cell_type": "markdown",
      "source": [
        "#Conectar com google Driver e baixar aquivos\n",
        "\n",
        "dados do governo https://www.gov.br/receitafederal/pt-br/assuntos/orientacao-tributaria/cadastros/consultas/dados-publicos-cnpj"
      ],
      "metadata": {
        "id": "W9LfIH_Qp2UW"
      }
    },
    {
      "cell_type": "code",
      "source": [
        "from google.colab import drive\n",
        "drive.mount('/content/drive')"
      ],
      "metadata": {
        "id": "PopxM0Bnrk97",
        "outputId": "447474bf-4ab9-4d8f-f673-99b637fa393d",
        "colab": {
          "base_uri": "https://localhost:8080/"
        }
      },
      "execution_count": 7,
      "outputs": [
        {
          "output_type": "stream",
          "name": "stdout",
          "text": [
            "Drive already mounted at /content/drive; to attempt to forcibly remount, call drive.mount(\"/content/drive\", force_remount=True).\n"
          ]
        }
      ]
    },
    {
      "cell_type": "code",
      "source": [
        "path = '/content/drive/MyDrive/Colab Notebooks/dado_spark/'"
      ],
      "metadata": {
        "id": "H7CR_yh8qAf2"
      },
      "execution_count": 8,
      "outputs": []
    },
    {
      "cell_type": "code",
      "source": [
        "# zipar\n",
        "import zipfile"
      ],
      "metadata": {
        "id": "Jc1qnd4BqAsv"
      },
      "execution_count": 9,
      "outputs": []
    },
    {
      "cell_type": "code",
      "source": [
        "zipfile.ZipFile(path+'/empresas.zip', 'r').extractall(path)\n",
        "zipfile.ZipFile(path+'/estabelecimentos.zip', 'r').extractall(path)\n",
        "zipfile.ZipFile(path+'/socios.zip', 'r').extractall(path)"
      ],
      "metadata": {
        "id": "GNkNn1eaqupY"
      },
      "execution_count": 10,
      "outputs": []
    },
    {
      "cell_type": "code",
      "source": [
        "#ler os arquivos com spark\n",
        "empresas = spark.read.csv(path+'/empresas', sep=';', inferSchema=True)\n",
        "socios = spark.read.csv(path+'/socios', sep=';', inferSchema=True)\n",
        "estabelecimentos = spark.read.csv(path+'/estabelecimentos', sep=';', inferSchema=True)"
      ],
      "metadata": {
        "id": "Xakc5XYqrcOO"
      },
      "execution_count": 11,
      "outputs": []
    },
    {
      "cell_type": "code",
      "source": [
        "print(empresas.count())\n",
        "print(estabelecimentos.count())\n",
        "print(socios.count())"
      ],
      "metadata": {
        "id": "4dToQ226ugez",
        "outputId": "cacfb4c6-0cec-435c-be05-a58234caa0a0",
        "colab": {
          "base_uri": "https://localhost:8080/"
        }
      },
      "execution_count": 12,
      "outputs": [
        {
          "output_type": "stream",
          "name": "stdout",
          "text": [
            "4585679\n",
            "4836219\n",
            "2046430\n"
          ]
        }
      ]
    },
    {
      "cell_type": "markdown",
      "source": [
        "#Renomeando colunas "
      ],
      "metadata": {
        "id": "_6V03SyxxftM"
      }
    },
    {
      "cell_type": "code",
      "source": [
        "empresas.limit(5).toPandas()"
      ],
      "metadata": {
        "id": "bgPU2KaXxkL9",
        "outputId": "b1328eb5-a59c-4837-ada3-52f73a5480c2",
        "colab": {
          "base_uri": "https://localhost:8080/",
          "height": 0
        }
      },
      "execution_count": 18,
      "outputs": [
        {
          "output_type": "execute_result",
          "data": {
            "text/plain": [
              "    _c0                                                _c1   _c2  _c3  \\\n",
              "0   306            FRANCAMAR REFRIGERACAO TECNICA S/C LTDA  2240   49   \n",
              "1  1355                         BRASILEIRO & OLIVEIRA LTDA  2062   49   \n",
              "2  4820  REGISTRO DE IMOVEIS, TABELIONATO 1 DE NOTAS E ...  3034   32   \n",
              "3  5347       ROSELY APARECIDA MONTEIRO CALTABIANO FREITAS  2135   50   \n",
              "4  6846                         BADU E FILHOS TECIDOS LTDA  2062   49   \n",
              "\n",
              "       _c4  _c5   _c6  \n",
              "0     0,00    1  None  \n",
              "1     0,00    5  None  \n",
              "2     0,00    5  None  \n",
              "3     0,00    5  None  \n",
              "4  4000,00    1  None  "
            ],
            "text/html": [
              "\n",
              "  <div id=\"df-f0be7b4f-e600-4702-9d8b-68dc8d00cf21\">\n",
              "    <div class=\"colab-df-container\">\n",
              "      <div>\n",
              "<style scoped>\n",
              "    .dataframe tbody tr th:only-of-type {\n",
              "        vertical-align: middle;\n",
              "    }\n",
              "\n",
              "    .dataframe tbody tr th {\n",
              "        vertical-align: top;\n",
              "    }\n",
              "\n",
              "    .dataframe thead th {\n",
              "        text-align: right;\n",
              "    }\n",
              "</style>\n",
              "<table border=\"1\" class=\"dataframe\">\n",
              "  <thead>\n",
              "    <tr style=\"text-align: right;\">\n",
              "      <th></th>\n",
              "      <th>_c0</th>\n",
              "      <th>_c1</th>\n",
              "      <th>_c2</th>\n",
              "      <th>_c3</th>\n",
              "      <th>_c4</th>\n",
              "      <th>_c5</th>\n",
              "      <th>_c6</th>\n",
              "    </tr>\n",
              "  </thead>\n",
              "  <tbody>\n",
              "    <tr>\n",
              "      <th>0</th>\n",
              "      <td>306</td>\n",
              "      <td>FRANCAMAR REFRIGERACAO TECNICA S/C LTDA</td>\n",
              "      <td>2240</td>\n",
              "      <td>49</td>\n",
              "      <td>0,00</td>\n",
              "      <td>1</td>\n",
              "      <td>None</td>\n",
              "    </tr>\n",
              "    <tr>\n",
              "      <th>1</th>\n",
              "      <td>1355</td>\n",
              "      <td>BRASILEIRO &amp; OLIVEIRA LTDA</td>\n",
              "      <td>2062</td>\n",
              "      <td>49</td>\n",
              "      <td>0,00</td>\n",
              "      <td>5</td>\n",
              "      <td>None</td>\n",
              "    </tr>\n",
              "    <tr>\n",
              "      <th>2</th>\n",
              "      <td>4820</td>\n",
              "      <td>REGISTRO DE IMOVEIS, TABELIONATO 1 DE NOTAS E ...</td>\n",
              "      <td>3034</td>\n",
              "      <td>32</td>\n",
              "      <td>0,00</td>\n",
              "      <td>5</td>\n",
              "      <td>None</td>\n",
              "    </tr>\n",
              "    <tr>\n",
              "      <th>3</th>\n",
              "      <td>5347</td>\n",
              "      <td>ROSELY APARECIDA MONTEIRO CALTABIANO FREITAS</td>\n",
              "      <td>2135</td>\n",
              "      <td>50</td>\n",
              "      <td>0,00</td>\n",
              "      <td>5</td>\n",
              "      <td>None</td>\n",
              "    </tr>\n",
              "    <tr>\n",
              "      <th>4</th>\n",
              "      <td>6846</td>\n",
              "      <td>BADU E FILHOS TECIDOS LTDA</td>\n",
              "      <td>2062</td>\n",
              "      <td>49</td>\n",
              "      <td>4000,00</td>\n",
              "      <td>1</td>\n",
              "      <td>None</td>\n",
              "    </tr>\n",
              "  </tbody>\n",
              "</table>\n",
              "</div>\n",
              "      <button class=\"colab-df-convert\" onclick=\"convertToInteractive('df-f0be7b4f-e600-4702-9d8b-68dc8d00cf21')\"\n",
              "              title=\"Convert this dataframe to an interactive table.\"\n",
              "              style=\"display:none;\">\n",
              "        \n",
              "  <svg xmlns=\"http://www.w3.org/2000/svg\" height=\"24px\"viewBox=\"0 0 24 24\"\n",
              "       width=\"24px\">\n",
              "    <path d=\"M0 0h24v24H0V0z\" fill=\"none\"/>\n",
              "    <path d=\"M18.56 5.44l.94 2.06.94-2.06 2.06-.94-2.06-.94-.94-2.06-.94 2.06-2.06.94zm-11 1L8.5 8.5l.94-2.06 2.06-.94-2.06-.94L8.5 2.5l-.94 2.06-2.06.94zm10 10l.94 2.06.94-2.06 2.06-.94-2.06-.94-.94-2.06-.94 2.06-2.06.94z\"/><path d=\"M17.41 7.96l-1.37-1.37c-.4-.4-.92-.59-1.43-.59-.52 0-1.04.2-1.43.59L10.3 9.45l-7.72 7.72c-.78.78-.78 2.05 0 2.83L4 21.41c.39.39.9.59 1.41.59.51 0 1.02-.2 1.41-.59l7.78-7.78 2.81-2.81c.8-.78.8-2.07 0-2.86zM5.41 20L4 18.59l7.72-7.72 1.47 1.35L5.41 20z\"/>\n",
              "  </svg>\n",
              "      </button>\n",
              "      \n",
              "  <style>\n",
              "    .colab-df-container {\n",
              "      display:flex;\n",
              "      flex-wrap:wrap;\n",
              "      gap: 12px;\n",
              "    }\n",
              "\n",
              "    .colab-df-convert {\n",
              "      background-color: #E8F0FE;\n",
              "      border: none;\n",
              "      border-radius: 50%;\n",
              "      cursor: pointer;\n",
              "      display: none;\n",
              "      fill: #1967D2;\n",
              "      height: 32px;\n",
              "      padding: 0 0 0 0;\n",
              "      width: 32px;\n",
              "    }\n",
              "\n",
              "    .colab-df-convert:hover {\n",
              "      background-color: #E2EBFA;\n",
              "      box-shadow: 0px 1px 2px rgba(60, 64, 67, 0.3), 0px 1px 3px 1px rgba(60, 64, 67, 0.15);\n",
              "      fill: #174EA6;\n",
              "    }\n",
              "\n",
              "    [theme=dark] .colab-df-convert {\n",
              "      background-color: #3B4455;\n",
              "      fill: #D2E3FC;\n",
              "    }\n",
              "\n",
              "    [theme=dark] .colab-df-convert:hover {\n",
              "      background-color: #434B5C;\n",
              "      box-shadow: 0px 1px 3px 1px rgba(0, 0, 0, 0.15);\n",
              "      filter: drop-shadow(0px 1px 2px rgba(0, 0, 0, 0.3));\n",
              "      fill: #FFFFFF;\n",
              "    }\n",
              "  </style>\n",
              "\n",
              "      <script>\n",
              "        const buttonEl =\n",
              "          document.querySelector('#df-f0be7b4f-e600-4702-9d8b-68dc8d00cf21 button.colab-df-convert');\n",
              "        buttonEl.style.display =\n",
              "          google.colab.kernel.accessAllowed ? 'block' : 'none';\n",
              "\n",
              "        async function convertToInteractive(key) {\n",
              "          const element = document.querySelector('#df-f0be7b4f-e600-4702-9d8b-68dc8d00cf21');\n",
              "          const dataTable =\n",
              "            await google.colab.kernel.invokeFunction('convertToInteractive',\n",
              "                                                     [key], {});\n",
              "          if (!dataTable) return;\n",
              "\n",
              "          const docLinkHtml = 'Like what you see? Visit the ' +\n",
              "            '<a target=\"_blank\" href=https://colab.research.google.com/notebooks/data_table.ipynb>data table notebook</a>'\n",
              "            + ' to learn more about interactive tables.';\n",
              "          element.innerHTML = '';\n",
              "          dataTable['output_type'] = 'display_data';\n",
              "          await google.colab.output.renderOutput(dataTable, element);\n",
              "          const docLink = document.createElement('div');\n",
              "          docLink.innerHTML = docLinkHtml;\n",
              "          element.appendChild(docLink);\n",
              "        }\n",
              "      </script>\n",
              "    </div>\n",
              "  </div>\n",
              "  "
            ]
          },
          "metadata": {},
          "execution_count": 18
        }
      ]
    },
    {
      "cell_type": "code",
      "source": [
        "# renomear colunas\n",
        "empresasColNames = ['cnpj_basico', 'razao_social_nome_empresarial', 'natureza_juridica', 'qualificacao_do_responsavel', 'capital_social_da_empresa', 'porte_da_empresa', 'ente_federativo_responsavel']"
      ],
      "metadata": {
        "id": "VeIygAQzxyXx"
      },
      "execution_count": 19,
      "outputs": []
    },
    {
      "cell_type": "code",
      "source": [
        "# enumerate - retirna tuplas com indece\n",
        "for index, value in enumerate(empresasColNames):\n",
        "  empresas = empresas.withColumnRenamed(f'_c{index}', value)\n",
        "\n",
        "empresas.limit(5).toPandas()"
      ],
      "metadata": {
        "id": "6t5ckuEex9Rc",
        "outputId": "fd948aaa-6067-4253-d836-be59e8cd60e5",
        "colab": {
          "base_uri": "https://localhost:8080/",
          "height": 0
        }
      },
      "execution_count": 20,
      "outputs": [
        {
          "output_type": "execute_result",
          "data": {
            "text/plain": [
              "   cnpj_basico                      razao_social_nome_empresarial  \\\n",
              "0          306            FRANCAMAR REFRIGERACAO TECNICA S/C LTDA   \n",
              "1         1355                         BRASILEIRO & OLIVEIRA LTDA   \n",
              "2         4820  REGISTRO DE IMOVEIS, TABELIONATO 1 DE NOTAS E ...   \n",
              "3         5347       ROSELY APARECIDA MONTEIRO CALTABIANO FREITAS   \n",
              "4         6846                         BADU E FILHOS TECIDOS LTDA   \n",
              "\n",
              "   natureza_juridica  qualificacao_do_responsavel capital_social_da_empresa  \\\n",
              "0               2240                           49                      0,00   \n",
              "1               2062                           49                      0,00   \n",
              "2               3034                           32                      0,00   \n",
              "3               2135                           50                      0,00   \n",
              "4               2062                           49                   4000,00   \n",
              "\n",
              "   porte_da_empresa ente_federativo_responsavel  \n",
              "0                 1                        None  \n",
              "1                 5                        None  \n",
              "2                 5                        None  \n",
              "3                 5                        None  \n",
              "4                 1                        None  "
            ],
            "text/html": [
              "\n",
              "  <div id=\"df-d071ddca-25e8-4d80-adc4-f7e877445df4\">\n",
              "    <div class=\"colab-df-container\">\n",
              "      <div>\n",
              "<style scoped>\n",
              "    .dataframe tbody tr th:only-of-type {\n",
              "        vertical-align: middle;\n",
              "    }\n",
              "\n",
              "    .dataframe tbody tr th {\n",
              "        vertical-align: top;\n",
              "    }\n",
              "\n",
              "    .dataframe thead th {\n",
              "        text-align: right;\n",
              "    }\n",
              "</style>\n",
              "<table border=\"1\" class=\"dataframe\">\n",
              "  <thead>\n",
              "    <tr style=\"text-align: right;\">\n",
              "      <th></th>\n",
              "      <th>cnpj_basico</th>\n",
              "      <th>razao_social_nome_empresarial</th>\n",
              "      <th>natureza_juridica</th>\n",
              "      <th>qualificacao_do_responsavel</th>\n",
              "      <th>capital_social_da_empresa</th>\n",
              "      <th>porte_da_empresa</th>\n",
              "      <th>ente_federativo_responsavel</th>\n",
              "    </tr>\n",
              "  </thead>\n",
              "  <tbody>\n",
              "    <tr>\n",
              "      <th>0</th>\n",
              "      <td>306</td>\n",
              "      <td>FRANCAMAR REFRIGERACAO TECNICA S/C LTDA</td>\n",
              "      <td>2240</td>\n",
              "      <td>49</td>\n",
              "      <td>0,00</td>\n",
              "      <td>1</td>\n",
              "      <td>None</td>\n",
              "    </tr>\n",
              "    <tr>\n",
              "      <th>1</th>\n",
              "      <td>1355</td>\n",
              "      <td>BRASILEIRO &amp; OLIVEIRA LTDA</td>\n",
              "      <td>2062</td>\n",
              "      <td>49</td>\n",
              "      <td>0,00</td>\n",
              "      <td>5</td>\n",
              "      <td>None</td>\n",
              "    </tr>\n",
              "    <tr>\n",
              "      <th>2</th>\n",
              "      <td>4820</td>\n",
              "      <td>REGISTRO DE IMOVEIS, TABELIONATO 1 DE NOTAS E ...</td>\n",
              "      <td>3034</td>\n",
              "      <td>32</td>\n",
              "      <td>0,00</td>\n",
              "      <td>5</td>\n",
              "      <td>None</td>\n",
              "    </tr>\n",
              "    <tr>\n",
              "      <th>3</th>\n",
              "      <td>5347</td>\n",
              "      <td>ROSELY APARECIDA MONTEIRO CALTABIANO FREITAS</td>\n",
              "      <td>2135</td>\n",
              "      <td>50</td>\n",
              "      <td>0,00</td>\n",
              "      <td>5</td>\n",
              "      <td>None</td>\n",
              "    </tr>\n",
              "    <tr>\n",
              "      <th>4</th>\n",
              "      <td>6846</td>\n",
              "      <td>BADU E FILHOS TECIDOS LTDA</td>\n",
              "      <td>2062</td>\n",
              "      <td>49</td>\n",
              "      <td>4000,00</td>\n",
              "      <td>1</td>\n",
              "      <td>None</td>\n",
              "    </tr>\n",
              "  </tbody>\n",
              "</table>\n",
              "</div>\n",
              "      <button class=\"colab-df-convert\" onclick=\"convertToInteractive('df-d071ddca-25e8-4d80-adc4-f7e877445df4')\"\n",
              "              title=\"Convert this dataframe to an interactive table.\"\n",
              "              style=\"display:none;\">\n",
              "        \n",
              "  <svg xmlns=\"http://www.w3.org/2000/svg\" height=\"24px\"viewBox=\"0 0 24 24\"\n",
              "       width=\"24px\">\n",
              "    <path d=\"M0 0h24v24H0V0z\" fill=\"none\"/>\n",
              "    <path d=\"M18.56 5.44l.94 2.06.94-2.06 2.06-.94-2.06-.94-.94-2.06-.94 2.06-2.06.94zm-11 1L8.5 8.5l.94-2.06 2.06-.94-2.06-.94L8.5 2.5l-.94 2.06-2.06.94zm10 10l.94 2.06.94-2.06 2.06-.94-2.06-.94-.94-2.06-.94 2.06-2.06.94z\"/><path d=\"M17.41 7.96l-1.37-1.37c-.4-.4-.92-.59-1.43-.59-.52 0-1.04.2-1.43.59L10.3 9.45l-7.72 7.72c-.78.78-.78 2.05 0 2.83L4 21.41c.39.39.9.59 1.41.59.51 0 1.02-.2 1.41-.59l7.78-7.78 2.81-2.81c.8-.78.8-2.07 0-2.86zM5.41 20L4 18.59l7.72-7.72 1.47 1.35L5.41 20z\"/>\n",
              "  </svg>\n",
              "      </button>\n",
              "      \n",
              "  <style>\n",
              "    .colab-df-container {\n",
              "      display:flex;\n",
              "      flex-wrap:wrap;\n",
              "      gap: 12px;\n",
              "    }\n",
              "\n",
              "    .colab-df-convert {\n",
              "      background-color: #E8F0FE;\n",
              "      border: none;\n",
              "      border-radius: 50%;\n",
              "      cursor: pointer;\n",
              "      display: none;\n",
              "      fill: #1967D2;\n",
              "      height: 32px;\n",
              "      padding: 0 0 0 0;\n",
              "      width: 32px;\n",
              "    }\n",
              "\n",
              "    .colab-df-convert:hover {\n",
              "      background-color: #E2EBFA;\n",
              "      box-shadow: 0px 1px 2px rgba(60, 64, 67, 0.3), 0px 1px 3px 1px rgba(60, 64, 67, 0.15);\n",
              "      fill: #174EA6;\n",
              "    }\n",
              "\n",
              "    [theme=dark] .colab-df-convert {\n",
              "      background-color: #3B4455;\n",
              "      fill: #D2E3FC;\n",
              "    }\n",
              "\n",
              "    [theme=dark] .colab-df-convert:hover {\n",
              "      background-color: #434B5C;\n",
              "      box-shadow: 0px 1px 3px 1px rgba(0, 0, 0, 0.15);\n",
              "      filter: drop-shadow(0px 1px 2px rgba(0, 0, 0, 0.3));\n",
              "      fill: #FFFFFF;\n",
              "    }\n",
              "  </style>\n",
              "\n",
              "      <script>\n",
              "        const buttonEl =\n",
              "          document.querySelector('#df-d071ddca-25e8-4d80-adc4-f7e877445df4 button.colab-df-convert');\n",
              "        buttonEl.style.display =\n",
              "          google.colab.kernel.accessAllowed ? 'block' : 'none';\n",
              "\n",
              "        async function convertToInteractive(key) {\n",
              "          const element = document.querySelector('#df-d071ddca-25e8-4d80-adc4-f7e877445df4');\n",
              "          const dataTable =\n",
              "            await google.colab.kernel.invokeFunction('convertToInteractive',\n",
              "                                                     [key], {});\n",
              "          if (!dataTable) return;\n",
              "\n",
              "          const docLinkHtml = 'Like what you see? Visit the ' +\n",
              "            '<a target=\"_blank\" href=https://colab.research.google.com/notebooks/data_table.ipynb>data table notebook</a>'\n",
              "            + ' to learn more about interactive tables.';\n",
              "          element.innerHTML = '';\n",
              "          dataTable['output_type'] = 'display_data';\n",
              "          await google.colab.output.renderOutput(dataTable, element);\n",
              "          const docLink = document.createElement('div');\n",
              "          docLink.innerHTML = docLinkHtml;\n",
              "          element.appendChild(docLink);\n",
              "        }\n",
              "      </script>\n",
              "    </div>\n",
              "  </div>\n",
              "  "
            ]
          },
          "metadata": {},
          "execution_count": 20
        }
      ]
    },
    {
      "cell_type": "code",
      "source": [
        "estabsColNames = ['cnpj_basico', 'cnpj_ordem', 'cnpj_dv', 'identificador_matriz_filial', 'nome_fantasia', 'situacao_cadastral', 'data_situacao_cadastral', 'motivo_situacao_cadastral', 'nome_da_cidade_no_exterior', 'pais', 'data_de_inicio_atividade', 'cnae_fiscal_principal', 'cnae_fiscal_secundaria', 'tipo_de_logradouro', 'logradouro', 'numero', 'complemento', 'bairro', 'cep', 'uf', 'municipio', 'ddd_1', 'telefone_1', 'ddd_2', 'telefone_2', 'ddd_do_fax', 'fax', 'correio_eletronico', 'situacao_especial', 'data_da_situacao_especial']\n",
        "\n",
        "for index, value in enumerate(estabsColNames):\n",
        "  estabelecimentos = estabelecimentos.withColumnRenamed(f'_c{index}', value)\n",
        "\n",
        "estabelecimentos.limit(5).toPandas()"
      ],
      "metadata": {
        "id": "3UTG4AMVIg9S",
        "outputId": "5a87639c-0717-4629-ee42-12a1e35da9fa",
        "colab": {
          "base_uri": "https://localhost:8080/",
          "height": 0
        }
      },
      "execution_count": 21,
      "outputs": [
        {
          "output_type": "execute_result",
          "data": {
            "text/plain": [
              "   cnpj_basico  cnpj_ordem  cnpj_dv  identificador_matriz_filial  \\\n",
              "0         1879           1       96                            1   \n",
              "1         2818           1       43                            1   \n",
              "2         3110           1        7                            1   \n",
              "3         3733           1       80                            1   \n",
              "4         4628           3       27                            2   \n",
              "\n",
              "       nome_fantasia  situacao_cadastral  data_situacao_cadastral  \\\n",
              "0     PIRAMIDE M. C.                   8                 20011029   \n",
              "1               None                   8                 20081231   \n",
              "2               None                   8                 19971231   \n",
              "3               None                   8                 20081231   \n",
              "4  EMBROIDERY & GIFT                   8                 19980429   \n",
              "\n",
              "   motivo_situacao_cadastral nome_da_cidade_no_exterior  pais  ...  municipio  \\\n",
              "0                          1                       None   NaN  ...       7107   \n",
              "1                         71                       None   NaN  ...       7107   \n",
              "2                          1                       None   NaN  ...       7107   \n",
              "3                         71                       None   NaN  ...       7107   \n",
              "4                          1                       None   NaN  ...       7075   \n",
              "\n",
              "   ddd_1 telefone_1 ddd_2 telefone_2 ddd_do_fax   fax correio_eletronico  \\\n",
              "0   None       None  None       None        NaN  None               None   \n",
              "1   None       None  None       None        NaN  None               None   \n",
              "2   None       None  None       None        NaN  None               None   \n",
              "3   None       None  None       None        NaN  None               None   \n",
              "4   None       None  None       None        NaN  None               None   \n",
              "\n",
              "   situacao_especial data_da_situacao_especial  \n",
              "0               None                       NaN  \n",
              "1               None                       NaN  \n",
              "2               None                       NaN  \n",
              "3               None                       NaN  \n",
              "4               None                       NaN  \n",
              "\n",
              "[5 rows x 30 columns]"
            ],
            "text/html": [
              "\n",
              "  <div id=\"df-90417e05-1d53-4f81-9c2a-233306d3f60f\">\n",
              "    <div class=\"colab-df-container\">\n",
              "      <div>\n",
              "<style scoped>\n",
              "    .dataframe tbody tr th:only-of-type {\n",
              "        vertical-align: middle;\n",
              "    }\n",
              "\n",
              "    .dataframe tbody tr th {\n",
              "        vertical-align: top;\n",
              "    }\n",
              "\n",
              "    .dataframe thead th {\n",
              "        text-align: right;\n",
              "    }\n",
              "</style>\n",
              "<table border=\"1\" class=\"dataframe\">\n",
              "  <thead>\n",
              "    <tr style=\"text-align: right;\">\n",
              "      <th></th>\n",
              "      <th>cnpj_basico</th>\n",
              "      <th>cnpj_ordem</th>\n",
              "      <th>cnpj_dv</th>\n",
              "      <th>identificador_matriz_filial</th>\n",
              "      <th>nome_fantasia</th>\n",
              "      <th>situacao_cadastral</th>\n",
              "      <th>data_situacao_cadastral</th>\n",
              "      <th>motivo_situacao_cadastral</th>\n",
              "      <th>nome_da_cidade_no_exterior</th>\n",
              "      <th>pais</th>\n",
              "      <th>...</th>\n",
              "      <th>municipio</th>\n",
              "      <th>ddd_1</th>\n",
              "      <th>telefone_1</th>\n",
              "      <th>ddd_2</th>\n",
              "      <th>telefone_2</th>\n",
              "      <th>ddd_do_fax</th>\n",
              "      <th>fax</th>\n",
              "      <th>correio_eletronico</th>\n",
              "      <th>situacao_especial</th>\n",
              "      <th>data_da_situacao_especial</th>\n",
              "    </tr>\n",
              "  </thead>\n",
              "  <tbody>\n",
              "    <tr>\n",
              "      <th>0</th>\n",
              "      <td>1879</td>\n",
              "      <td>1</td>\n",
              "      <td>96</td>\n",
              "      <td>1</td>\n",
              "      <td>PIRAMIDE M. C.</td>\n",
              "      <td>8</td>\n",
              "      <td>20011029</td>\n",
              "      <td>1</td>\n",
              "      <td>None</td>\n",
              "      <td>NaN</td>\n",
              "      <td>...</td>\n",
              "      <td>7107</td>\n",
              "      <td>None</td>\n",
              "      <td>None</td>\n",
              "      <td>None</td>\n",
              "      <td>None</td>\n",
              "      <td>NaN</td>\n",
              "      <td>None</td>\n",
              "      <td>None</td>\n",
              "      <td>None</td>\n",
              "      <td>NaN</td>\n",
              "    </tr>\n",
              "    <tr>\n",
              "      <th>1</th>\n",
              "      <td>2818</td>\n",
              "      <td>1</td>\n",
              "      <td>43</td>\n",
              "      <td>1</td>\n",
              "      <td>None</td>\n",
              "      <td>8</td>\n",
              "      <td>20081231</td>\n",
              "      <td>71</td>\n",
              "      <td>None</td>\n",
              "      <td>NaN</td>\n",
              "      <td>...</td>\n",
              "      <td>7107</td>\n",
              "      <td>None</td>\n",
              "      <td>None</td>\n",
              "      <td>None</td>\n",
              "      <td>None</td>\n",
              "      <td>NaN</td>\n",
              "      <td>None</td>\n",
              "      <td>None</td>\n",
              "      <td>None</td>\n",
              "      <td>NaN</td>\n",
              "    </tr>\n",
              "    <tr>\n",
              "      <th>2</th>\n",
              "      <td>3110</td>\n",
              "      <td>1</td>\n",
              "      <td>7</td>\n",
              "      <td>1</td>\n",
              "      <td>None</td>\n",
              "      <td>8</td>\n",
              "      <td>19971231</td>\n",
              "      <td>1</td>\n",
              "      <td>None</td>\n",
              "      <td>NaN</td>\n",
              "      <td>...</td>\n",
              "      <td>7107</td>\n",
              "      <td>None</td>\n",
              "      <td>None</td>\n",
              "      <td>None</td>\n",
              "      <td>None</td>\n",
              "      <td>NaN</td>\n",
              "      <td>None</td>\n",
              "      <td>None</td>\n",
              "      <td>None</td>\n",
              "      <td>NaN</td>\n",
              "    </tr>\n",
              "    <tr>\n",
              "      <th>3</th>\n",
              "      <td>3733</td>\n",
              "      <td>1</td>\n",
              "      <td>80</td>\n",
              "      <td>1</td>\n",
              "      <td>None</td>\n",
              "      <td>8</td>\n",
              "      <td>20081231</td>\n",
              "      <td>71</td>\n",
              "      <td>None</td>\n",
              "      <td>NaN</td>\n",
              "      <td>...</td>\n",
              "      <td>7107</td>\n",
              "      <td>None</td>\n",
              "      <td>None</td>\n",
              "      <td>None</td>\n",
              "      <td>None</td>\n",
              "      <td>NaN</td>\n",
              "      <td>None</td>\n",
              "      <td>None</td>\n",
              "      <td>None</td>\n",
              "      <td>NaN</td>\n",
              "    </tr>\n",
              "    <tr>\n",
              "      <th>4</th>\n",
              "      <td>4628</td>\n",
              "      <td>3</td>\n",
              "      <td>27</td>\n",
              "      <td>2</td>\n",
              "      <td>EMBROIDERY &amp; GIFT</td>\n",
              "      <td>8</td>\n",
              "      <td>19980429</td>\n",
              "      <td>1</td>\n",
              "      <td>None</td>\n",
              "      <td>NaN</td>\n",
              "      <td>...</td>\n",
              "      <td>7075</td>\n",
              "      <td>None</td>\n",
              "      <td>None</td>\n",
              "      <td>None</td>\n",
              "      <td>None</td>\n",
              "      <td>NaN</td>\n",
              "      <td>None</td>\n",
              "      <td>None</td>\n",
              "      <td>None</td>\n",
              "      <td>NaN</td>\n",
              "    </tr>\n",
              "  </tbody>\n",
              "</table>\n",
              "<p>5 rows × 30 columns</p>\n",
              "</div>\n",
              "      <button class=\"colab-df-convert\" onclick=\"convertToInteractive('df-90417e05-1d53-4f81-9c2a-233306d3f60f')\"\n",
              "              title=\"Convert this dataframe to an interactive table.\"\n",
              "              style=\"display:none;\">\n",
              "        \n",
              "  <svg xmlns=\"http://www.w3.org/2000/svg\" height=\"24px\"viewBox=\"0 0 24 24\"\n",
              "       width=\"24px\">\n",
              "    <path d=\"M0 0h24v24H0V0z\" fill=\"none\"/>\n",
              "    <path d=\"M18.56 5.44l.94 2.06.94-2.06 2.06-.94-2.06-.94-.94-2.06-.94 2.06-2.06.94zm-11 1L8.5 8.5l.94-2.06 2.06-.94-2.06-.94L8.5 2.5l-.94 2.06-2.06.94zm10 10l.94 2.06.94-2.06 2.06-.94-2.06-.94-.94-2.06-.94 2.06-2.06.94z\"/><path d=\"M17.41 7.96l-1.37-1.37c-.4-.4-.92-.59-1.43-.59-.52 0-1.04.2-1.43.59L10.3 9.45l-7.72 7.72c-.78.78-.78 2.05 0 2.83L4 21.41c.39.39.9.59 1.41.59.51 0 1.02-.2 1.41-.59l7.78-7.78 2.81-2.81c.8-.78.8-2.07 0-2.86zM5.41 20L4 18.59l7.72-7.72 1.47 1.35L5.41 20z\"/>\n",
              "  </svg>\n",
              "      </button>\n",
              "      \n",
              "  <style>\n",
              "    .colab-df-container {\n",
              "      display:flex;\n",
              "      flex-wrap:wrap;\n",
              "      gap: 12px;\n",
              "    }\n",
              "\n",
              "    .colab-df-convert {\n",
              "      background-color: #E8F0FE;\n",
              "      border: none;\n",
              "      border-radius: 50%;\n",
              "      cursor: pointer;\n",
              "      display: none;\n",
              "      fill: #1967D2;\n",
              "      height: 32px;\n",
              "      padding: 0 0 0 0;\n",
              "      width: 32px;\n",
              "    }\n",
              "\n",
              "    .colab-df-convert:hover {\n",
              "      background-color: #E2EBFA;\n",
              "      box-shadow: 0px 1px 2px rgba(60, 64, 67, 0.3), 0px 1px 3px 1px rgba(60, 64, 67, 0.15);\n",
              "      fill: #174EA6;\n",
              "    }\n",
              "\n",
              "    [theme=dark] .colab-df-convert {\n",
              "      background-color: #3B4455;\n",
              "      fill: #D2E3FC;\n",
              "    }\n",
              "\n",
              "    [theme=dark] .colab-df-convert:hover {\n",
              "      background-color: #434B5C;\n",
              "      box-shadow: 0px 1px 3px 1px rgba(0, 0, 0, 0.15);\n",
              "      filter: drop-shadow(0px 1px 2px rgba(0, 0, 0, 0.3));\n",
              "      fill: #FFFFFF;\n",
              "    }\n",
              "  </style>\n",
              "\n",
              "      <script>\n",
              "        const buttonEl =\n",
              "          document.querySelector('#df-90417e05-1d53-4f81-9c2a-233306d3f60f button.colab-df-convert');\n",
              "        buttonEl.style.display =\n",
              "          google.colab.kernel.accessAllowed ? 'block' : 'none';\n",
              "\n",
              "        async function convertToInteractive(key) {\n",
              "          const element = document.querySelector('#df-90417e05-1d53-4f81-9c2a-233306d3f60f');\n",
              "          const dataTable =\n",
              "            await google.colab.kernel.invokeFunction('convertToInteractive',\n",
              "                                                     [key], {});\n",
              "          if (!dataTable) return;\n",
              "\n",
              "          const docLinkHtml = 'Like what you see? Visit the ' +\n",
              "            '<a target=\"_blank\" href=https://colab.research.google.com/notebooks/data_table.ipynb>data table notebook</a>'\n",
              "            + ' to learn more about interactive tables.';\n",
              "          element.innerHTML = '';\n",
              "          dataTable['output_type'] = 'display_data';\n",
              "          await google.colab.output.renderOutput(dataTable, element);\n",
              "          const docLink = document.createElement('div');\n",
              "          docLink.innerHTML = docLinkHtml;\n",
              "          element.appendChild(docLink);\n",
              "        }\n",
              "      </script>\n",
              "    </div>\n",
              "  </div>\n",
              "  "
            ]
          },
          "metadata": {},
          "execution_count": 21
        }
      ]
    },
    {
      "cell_type": "code",
      "source": [
        "sociosColNames = ['cnpj_basico', 'identificador_de_socio', 'nome_do_socio_ou_razao_social', 'cnpj_ou_cpf_do_socio', 'qualificacao_do_socio', 'data_de_entrada_sociedade', 'pais', 'representante_legal', 'nome_do_representante', 'qualificacao_do_representante_legal', 'faixa_etaria']\n",
        "\n",
        "for index, value in enumerate(sociosColNames):\n",
        "  socios = socios.withColumnRenamed(f'_c{index}', value)\n",
        "\n",
        "socios.limit(5).toPandas()"
      ],
      "metadata": {
        "id": "Opzj1Kr3JFDB",
        "outputId": "fb7971ba-3465-4813-dbb0-a56514338082",
        "colab": {
          "base_uri": "https://localhost:8080/",
          "height": 0
        }
      },
      "execution_count": 22,
      "outputs": [
        {
          "output_type": "execute_result",
          "data": {
            "text/plain": [
              "   cnpj_basico  identificador_de_socio    nome_do_socio_ou_razao_social  \\\n",
              "0          411                       2      LILIANA PATRICIA GUASTAVINO   \n",
              "1          411                       2             CRISTINA HUNDERTMARK   \n",
              "2         5813                       2  CELSO EDUARDO DE CASTRO STEPHAN   \n",
              "3         5813                       2        EDUARDO BERRINGER STEPHAN   \n",
              "4        14798                       2              HANNE MAHFOUD FADEL   \n",
              "\n",
              "  cnpj_ou_cpf_do_socio  qualificacao_do_socio  data_de_entrada_sociedade  \\\n",
              "0          ***678188**                     22                   19940725   \n",
              "1          ***637848**                     28                   19940725   \n",
              "2          ***786068**                     49                   19940516   \n",
              "3          ***442348**                     49                   19940516   \n",
              "4          ***760388**                     49                   19940609   \n",
              "\n",
              "   pais representante_legal nome_do_representante  \\\n",
              "0   NaN         ***000000**                  None   \n",
              "1   NaN         ***000000**                  None   \n",
              "2   NaN         ***000000**                  None   \n",
              "3   NaN         ***000000**                  None   \n",
              "4   NaN         ***000000**                  None   \n",
              "\n",
              "   qualificacao_do_representante_legal  faixa_etaria  \n",
              "0                                    0             7  \n",
              "1                                    0             7  \n",
              "2                                    0             8  \n",
              "3                                    0             5  \n",
              "4                                    0             8  "
            ],
            "text/html": [
              "\n",
              "  <div id=\"df-c98dee19-6c09-4b43-aa13-7549cbf88585\">\n",
              "    <div class=\"colab-df-container\">\n",
              "      <div>\n",
              "<style scoped>\n",
              "    .dataframe tbody tr th:only-of-type {\n",
              "        vertical-align: middle;\n",
              "    }\n",
              "\n",
              "    .dataframe tbody tr th {\n",
              "        vertical-align: top;\n",
              "    }\n",
              "\n",
              "    .dataframe thead th {\n",
              "        text-align: right;\n",
              "    }\n",
              "</style>\n",
              "<table border=\"1\" class=\"dataframe\">\n",
              "  <thead>\n",
              "    <tr style=\"text-align: right;\">\n",
              "      <th></th>\n",
              "      <th>cnpj_basico</th>\n",
              "      <th>identificador_de_socio</th>\n",
              "      <th>nome_do_socio_ou_razao_social</th>\n",
              "      <th>cnpj_ou_cpf_do_socio</th>\n",
              "      <th>qualificacao_do_socio</th>\n",
              "      <th>data_de_entrada_sociedade</th>\n",
              "      <th>pais</th>\n",
              "      <th>representante_legal</th>\n",
              "      <th>nome_do_representante</th>\n",
              "      <th>qualificacao_do_representante_legal</th>\n",
              "      <th>faixa_etaria</th>\n",
              "    </tr>\n",
              "  </thead>\n",
              "  <tbody>\n",
              "    <tr>\n",
              "      <th>0</th>\n",
              "      <td>411</td>\n",
              "      <td>2</td>\n",
              "      <td>LILIANA PATRICIA GUASTAVINO</td>\n",
              "      <td>***678188**</td>\n",
              "      <td>22</td>\n",
              "      <td>19940725</td>\n",
              "      <td>NaN</td>\n",
              "      <td>***000000**</td>\n",
              "      <td>None</td>\n",
              "      <td>0</td>\n",
              "      <td>7</td>\n",
              "    </tr>\n",
              "    <tr>\n",
              "      <th>1</th>\n",
              "      <td>411</td>\n",
              "      <td>2</td>\n",
              "      <td>CRISTINA HUNDERTMARK</td>\n",
              "      <td>***637848**</td>\n",
              "      <td>28</td>\n",
              "      <td>19940725</td>\n",
              "      <td>NaN</td>\n",
              "      <td>***000000**</td>\n",
              "      <td>None</td>\n",
              "      <td>0</td>\n",
              "      <td>7</td>\n",
              "    </tr>\n",
              "    <tr>\n",
              "      <th>2</th>\n",
              "      <td>5813</td>\n",
              "      <td>2</td>\n",
              "      <td>CELSO EDUARDO DE CASTRO STEPHAN</td>\n",
              "      <td>***786068**</td>\n",
              "      <td>49</td>\n",
              "      <td>19940516</td>\n",
              "      <td>NaN</td>\n",
              "      <td>***000000**</td>\n",
              "      <td>None</td>\n",
              "      <td>0</td>\n",
              "      <td>8</td>\n",
              "    </tr>\n",
              "    <tr>\n",
              "      <th>3</th>\n",
              "      <td>5813</td>\n",
              "      <td>2</td>\n",
              "      <td>EDUARDO BERRINGER STEPHAN</td>\n",
              "      <td>***442348**</td>\n",
              "      <td>49</td>\n",
              "      <td>19940516</td>\n",
              "      <td>NaN</td>\n",
              "      <td>***000000**</td>\n",
              "      <td>None</td>\n",
              "      <td>0</td>\n",
              "      <td>5</td>\n",
              "    </tr>\n",
              "    <tr>\n",
              "      <th>4</th>\n",
              "      <td>14798</td>\n",
              "      <td>2</td>\n",
              "      <td>HANNE MAHFOUD FADEL</td>\n",
              "      <td>***760388**</td>\n",
              "      <td>49</td>\n",
              "      <td>19940609</td>\n",
              "      <td>NaN</td>\n",
              "      <td>***000000**</td>\n",
              "      <td>None</td>\n",
              "      <td>0</td>\n",
              "      <td>8</td>\n",
              "    </tr>\n",
              "  </tbody>\n",
              "</table>\n",
              "</div>\n",
              "      <button class=\"colab-df-convert\" onclick=\"convertToInteractive('df-c98dee19-6c09-4b43-aa13-7549cbf88585')\"\n",
              "              title=\"Convert this dataframe to an interactive table.\"\n",
              "              style=\"display:none;\">\n",
              "        \n",
              "  <svg xmlns=\"http://www.w3.org/2000/svg\" height=\"24px\"viewBox=\"0 0 24 24\"\n",
              "       width=\"24px\">\n",
              "    <path d=\"M0 0h24v24H0V0z\" fill=\"none\"/>\n",
              "    <path d=\"M18.56 5.44l.94 2.06.94-2.06 2.06-.94-2.06-.94-.94-2.06-.94 2.06-2.06.94zm-11 1L8.5 8.5l.94-2.06 2.06-.94-2.06-.94L8.5 2.5l-.94 2.06-2.06.94zm10 10l.94 2.06.94-2.06 2.06-.94-2.06-.94-.94-2.06-.94 2.06-2.06.94z\"/><path d=\"M17.41 7.96l-1.37-1.37c-.4-.4-.92-.59-1.43-.59-.52 0-1.04.2-1.43.59L10.3 9.45l-7.72 7.72c-.78.78-.78 2.05 0 2.83L4 21.41c.39.39.9.59 1.41.59.51 0 1.02-.2 1.41-.59l7.78-7.78 2.81-2.81c.8-.78.8-2.07 0-2.86zM5.41 20L4 18.59l7.72-7.72 1.47 1.35L5.41 20z\"/>\n",
              "  </svg>\n",
              "      </button>\n",
              "      \n",
              "  <style>\n",
              "    .colab-df-container {\n",
              "      display:flex;\n",
              "      flex-wrap:wrap;\n",
              "      gap: 12px;\n",
              "    }\n",
              "\n",
              "    .colab-df-convert {\n",
              "      background-color: #E8F0FE;\n",
              "      border: none;\n",
              "      border-radius: 50%;\n",
              "      cursor: pointer;\n",
              "      display: none;\n",
              "      fill: #1967D2;\n",
              "      height: 32px;\n",
              "      padding: 0 0 0 0;\n",
              "      width: 32px;\n",
              "    }\n",
              "\n",
              "    .colab-df-convert:hover {\n",
              "      background-color: #E2EBFA;\n",
              "      box-shadow: 0px 1px 2px rgba(60, 64, 67, 0.3), 0px 1px 3px 1px rgba(60, 64, 67, 0.15);\n",
              "      fill: #174EA6;\n",
              "    }\n",
              "\n",
              "    [theme=dark] .colab-df-convert {\n",
              "      background-color: #3B4455;\n",
              "      fill: #D2E3FC;\n",
              "    }\n",
              "\n",
              "    [theme=dark] .colab-df-convert:hover {\n",
              "      background-color: #434B5C;\n",
              "      box-shadow: 0px 1px 3px 1px rgba(0, 0, 0, 0.15);\n",
              "      filter: drop-shadow(0px 1px 2px rgba(0, 0, 0, 0.3));\n",
              "      fill: #FFFFFF;\n",
              "    }\n",
              "  </style>\n",
              "\n",
              "      <script>\n",
              "        const buttonEl =\n",
              "          document.querySelector('#df-c98dee19-6c09-4b43-aa13-7549cbf88585 button.colab-df-convert');\n",
              "        buttonEl.style.display =\n",
              "          google.colab.kernel.accessAllowed ? 'block' : 'none';\n",
              "\n",
              "        async function convertToInteractive(key) {\n",
              "          const element = document.querySelector('#df-c98dee19-6c09-4b43-aa13-7549cbf88585');\n",
              "          const dataTable =\n",
              "            await google.colab.kernel.invokeFunction('convertToInteractive',\n",
              "                                                     [key], {});\n",
              "          if (!dataTable) return;\n",
              "\n",
              "          const docLinkHtml = 'Like what you see? Visit the ' +\n",
              "            '<a target=\"_blank\" href=https://colab.research.google.com/notebooks/data_table.ipynb>data table notebook</a>'\n",
              "            + ' to learn more about interactive tables.';\n",
              "          element.innerHTML = '';\n",
              "          dataTable['output_type'] = 'display_data';\n",
              "          await google.colab.output.renderOutput(dataTable, element);\n",
              "          const docLink = document.createElement('div');\n",
              "          docLink.innerHTML = docLinkHtml;\n",
              "          element.appendChild(docLink);\n",
              "        }\n",
              "      </script>\n",
              "    </div>\n",
              "  </div>\n",
              "  "
            ]
          },
          "metadata": {},
          "execution_count": 22
        }
      ]
    },
    {
      "cell_type": "markdown",
      "source": [
        "#Bibliotecas"
      ],
      "metadata": {
        "id": "5kTwkPXVp95o"
      }
    },
    {
      "cell_type": "code",
      "source": [
        "# importando os tipos - https://spark.apache.org/docs/3.1.2/api/python/reference/pyspark.sql.html#data-types\n",
        "from pyspark.sql.types import * \n",
        "\n",
        "# impostando funcoes - https://spark.apache.org/docs/3.1.2/api/python/reference/pyspark.sql.html#functions\n",
        "from pyspark.sql.functions import *"
      ],
      "metadata": {
        "id": "NrlP-k95Q8_u"
      },
      "execution_count": 25,
      "outputs": []
    },
    {
      "cell_type": "code",
      "source": [
        "#outra forma de criar o spark pelo schema\n",
        "data = [{\"name\":\"edu\", \"age\":23}, {\"name\":\"jose\", \"age\":12}]\n",
        "\n",
        "schema = StructType([\n",
        "   StructField(\"name\", StringType(), True),\n",
        "   StructField(\"age\", IntegerType(), True)])\n",
        "\n",
        "df = spark.createDataFrame(data,schema)\n",
        "df.collect()"
      ],
      "metadata": {
        "id": "bNs7bph4d-ZB",
        "outputId": "1c0b15c3-5ad9-46f9-ad1e-a697f34f6693",
        "colab": {
          "base_uri": "https://localhost:8080/"
        }
      },
      "execution_count": 26,
      "outputs": [
        {
          "output_type": "execute_result",
          "data": {
            "text/plain": [
              "[Row(name='edu', age=23), Row(name='jose', age=12)]"
            ]
          },
          "metadata": {},
          "execution_count": 26
        }
      ]
    },
    {
      "cell_type": "markdown",
      "source": [
        "#Tratamento de dados, mudar os tipo do dado"
      ],
      "metadata": {
        "id": "nYR9Q9uoN2P3"
      }
    },
    {
      "cell_type": "code",
      "source": [
        "empresas.printSchema()"
      ],
      "metadata": {
        "id": "3iYXtPS1EChm",
        "outputId": "0e5570f2-42ea-47a0-89b5-64207cb70127",
        "colab": {
          "base_uri": "https://localhost:8080/"
        }
      },
      "execution_count": 29,
      "outputs": [
        {
          "output_type": "stream",
          "name": "stdout",
          "text": [
            "root\n",
            " |-- cnpj_basico: integer (nullable = true)\n",
            " |-- razao_social_nome_empresarial: string (nullable = true)\n",
            " |-- natureza_juridica: integer (nullable = true)\n",
            " |-- qualificacao_do_responsavel: integer (nullable = true)\n",
            " |-- capital_social_da_empresa: double (nullable = true)\n",
            " |-- porte_da_empresa: integer (nullable = true)\n",
            " |-- ente_federativo_responsavel: string (nullable = true)\n",
            "\n"
          ]
        }
      ]
    },
    {
      "cell_type": "code",
      "source": [
        "#separdor de descimal esta com virgula padrao brasil, padrao do spark é o ponto\n",
        "empresas = empresas.withColumn('capital_social_da_empresa', regexp_replace('capital_social_da_empresa', ',', '.'))\n",
        "\n",
        "#string para double\n",
        "empresas = empresas.withColumn(\"capital_social_da_empresa\", empresas['capital_social_da_empresa'].cast(DoubleType()))\n",
        "\n",
        "empresas.printSchema()"
      ],
      "metadata": {
        "id": "yx8VLUN9OPrs",
        "outputId": "208078db-ab47-48cd-eb51-e73829b09bc3",
        "colab": {
          "base_uri": "https://localhost:8080/"
        }
      },
      "execution_count": 30,
      "outputs": [
        {
          "output_type": "stream",
          "name": "stdout",
          "text": [
            "root\n",
            " |-- cnpj_basico: integer (nullable = true)\n",
            " |-- razao_social_nome_empresarial: string (nullable = true)\n",
            " |-- natureza_juridica: integer (nullable = true)\n",
            " |-- qualificacao_do_responsavel: integer (nullable = true)\n",
            " |-- capital_social_da_empresa: double (nullable = true)\n",
            " |-- porte_da_empresa: integer (nullable = true)\n",
            " |-- ente_federativo_responsavel: string (nullable = true)\n",
            "\n"
          ]
        }
      ]
    },
    {
      "cell_type": "code",
      "source": [
        "estabelecimentos.printSchema()"
      ],
      "metadata": {
        "id": "f6aSlazMN48u",
        "outputId": "f3cef786-0dd1-4437-ac3e-dc730c105429",
        "colab": {
          "base_uri": "https://localhost:8080/"
        }
      },
      "execution_count": 31,
      "outputs": [
        {
          "output_type": "stream",
          "name": "stdout",
          "text": [
            "root\n",
            " |-- cnpj_basico: integer (nullable = true)\n",
            " |-- cnpj_ordem: integer (nullable = true)\n",
            " |-- cnpj_dv: integer (nullable = true)\n",
            " |-- identificador_matriz_filial: integer (nullable = true)\n",
            " |-- nome_fantasia: string (nullable = true)\n",
            " |-- situacao_cadastral: integer (nullable = true)\n",
            " |-- data_situacao_cadastral: integer (nullable = true)\n",
            " |-- motivo_situacao_cadastral: integer (nullable = true)\n",
            " |-- nome_da_cidade_no_exterior: string (nullable = true)\n",
            " |-- pais: integer (nullable = true)\n",
            " |-- data_de_inicio_atividade: integer (nullable = true)\n",
            " |-- cnae_fiscal_principal: integer (nullable = true)\n",
            " |-- cnae_fiscal_secundaria: string (nullable = true)\n",
            " |-- tipo_de_logradouro: string (nullable = true)\n",
            " |-- logradouro: string (nullable = true)\n",
            " |-- numero: string (nullable = true)\n",
            " |-- complemento: string (nullable = true)\n",
            " |-- bairro: string (nullable = true)\n",
            " |-- cep: integer (nullable = true)\n",
            " |-- uf: string (nullable = true)\n",
            " |-- municipio: integer (nullable = true)\n",
            " |-- ddd_1: string (nullable = true)\n",
            " |-- telefone_1: string (nullable = true)\n",
            " |-- ddd_2: string (nullable = true)\n",
            " |-- telefone_2: string (nullable = true)\n",
            " |-- ddd_do_fax: integer (nullable = true)\n",
            " |-- fax: string (nullable = true)\n",
            " |-- correio_eletronico: string (nullable = true)\n",
            " |-- situacao_especial: string (nullable = true)\n",
            " |-- data_da_situacao_especial: integer (nullable = true)\n",
            "\n"
          ]
        }
      ]
    },
    {
      "cell_type": "code",
      "source": [
        "#mudar o formato de data - https://spark.apache.org/docs/latest/sql-ref-datetime-pattern.html\n",
        "estabelecimentos = estabelecimentos\\\n",
        "  .withColumn(\n",
        "      \"data_situacao_cadastral\", \n",
        "      to_date(estabelecimentos.data_situacao_cadastral.cast(StringType()), 'yyyyMMDD')\n",
        "  )\\\n",
        "  .withColumn(\n",
        "      \"data_de_inicio_atividade\", \n",
        "      to_date(estabelecimentos.data_de_inicio_atividade.cast(StringType()), 'yyyyMMdd')\n",
        "  )\\\n",
        "  .withColumn(\n",
        "      \"data_da_situacao_especial\", \n",
        "      to_date(estabelecimentos.data_da_situacao_especial.cast(StringType()), 'yyyyMMdd')\n",
        "  )\\\n",
        "\n",
        "estabelecimentos.printSchema()\n",
        "\n",
        "estabelecimentos.limit(5).toPandas()"
      ],
      "metadata": {
        "id": "Cv2heN34PxaH",
        "outputId": "f6bad702-d84d-493a-8ac5-bf12af872e05",
        "colab": {
          "base_uri": "https://localhost:8080/",
          "height": 890
        }
      },
      "execution_count": 32,
      "outputs": [
        {
          "output_type": "stream",
          "name": "stdout",
          "text": [
            "root\n",
            " |-- cnpj_basico: integer (nullable = true)\n",
            " |-- cnpj_ordem: integer (nullable = true)\n",
            " |-- cnpj_dv: integer (nullable = true)\n",
            " |-- identificador_matriz_filial: integer (nullable = true)\n",
            " |-- nome_fantasia: string (nullable = true)\n",
            " |-- situacao_cadastral: integer (nullable = true)\n",
            " |-- data_situacao_cadastral: date (nullable = true)\n",
            " |-- motivo_situacao_cadastral: integer (nullable = true)\n",
            " |-- nome_da_cidade_no_exterior: string (nullable = true)\n",
            " |-- pais: integer (nullable = true)\n",
            " |-- data_de_inicio_atividade: date (nullable = true)\n",
            " |-- cnae_fiscal_principal: integer (nullable = true)\n",
            " |-- cnae_fiscal_secundaria: string (nullable = true)\n",
            " |-- tipo_de_logradouro: string (nullable = true)\n",
            " |-- logradouro: string (nullable = true)\n",
            " |-- numero: string (nullable = true)\n",
            " |-- complemento: string (nullable = true)\n",
            " |-- bairro: string (nullable = true)\n",
            " |-- cep: integer (nullable = true)\n",
            " |-- uf: string (nullable = true)\n",
            " |-- municipio: integer (nullable = true)\n",
            " |-- ddd_1: string (nullable = true)\n",
            " |-- telefone_1: string (nullable = true)\n",
            " |-- ddd_2: string (nullable = true)\n",
            " |-- telefone_2: string (nullable = true)\n",
            " |-- ddd_do_fax: integer (nullable = true)\n",
            " |-- fax: string (nullable = true)\n",
            " |-- correio_eletronico: string (nullable = true)\n",
            " |-- situacao_especial: string (nullable = true)\n",
            " |-- data_da_situacao_especial: date (nullable = true)\n",
            "\n"
          ]
        },
        {
          "output_type": "execute_result",
          "data": {
            "text/plain": [
              "   cnpj_basico  cnpj_ordem  cnpj_dv  identificador_matriz_filial  \\\n",
              "0         1879           1       96                            1   \n",
              "1         2818           1       43                            1   \n",
              "2         3110           1        7                            1   \n",
              "3         3733           1       80                            1   \n",
              "4         4628           3       27                            2   \n",
              "\n",
              "       nome_fantasia  situacao_cadastral data_situacao_cadastral  \\\n",
              "0     PIRAMIDE M. C.                   8                    None   \n",
              "1               None                   8                    None   \n",
              "2               None                   8                    None   \n",
              "3               None                   8                    None   \n",
              "4  EMBROIDERY & GIFT                   8                    None   \n",
              "\n",
              "   motivo_situacao_cadastral nome_da_cidade_no_exterior  pais  ... municipio  \\\n",
              "0                          1                       None   NaN  ...      7107   \n",
              "1                         71                       None   NaN  ...      7107   \n",
              "2                          1                       None   NaN  ...      7107   \n",
              "3                         71                       None   NaN  ...      7107   \n",
              "4                          1                       None   NaN  ...      7075   \n",
              "\n",
              "   ddd_1 telefone_1 ddd_2 telefone_2 ddd_do_fax   fax correio_eletronico  \\\n",
              "0   None       None  None       None        NaN  None               None   \n",
              "1   None       None  None       None        NaN  None               None   \n",
              "2   None       None  None       None        NaN  None               None   \n",
              "3   None       None  None       None        NaN  None               None   \n",
              "4   None       None  None       None        NaN  None               None   \n",
              "\n",
              "   situacao_especial data_da_situacao_especial  \n",
              "0               None                      None  \n",
              "1               None                      None  \n",
              "2               None                      None  \n",
              "3               None                      None  \n",
              "4               None                      None  \n",
              "\n",
              "[5 rows x 30 columns]"
            ],
            "text/html": [
              "\n",
              "  <div id=\"df-b9a71641-94a5-4a5c-87c1-1683328eff57\">\n",
              "    <div class=\"colab-df-container\">\n",
              "      <div>\n",
              "<style scoped>\n",
              "    .dataframe tbody tr th:only-of-type {\n",
              "        vertical-align: middle;\n",
              "    }\n",
              "\n",
              "    .dataframe tbody tr th {\n",
              "        vertical-align: top;\n",
              "    }\n",
              "\n",
              "    .dataframe thead th {\n",
              "        text-align: right;\n",
              "    }\n",
              "</style>\n",
              "<table border=\"1\" class=\"dataframe\">\n",
              "  <thead>\n",
              "    <tr style=\"text-align: right;\">\n",
              "      <th></th>\n",
              "      <th>cnpj_basico</th>\n",
              "      <th>cnpj_ordem</th>\n",
              "      <th>cnpj_dv</th>\n",
              "      <th>identificador_matriz_filial</th>\n",
              "      <th>nome_fantasia</th>\n",
              "      <th>situacao_cadastral</th>\n",
              "      <th>data_situacao_cadastral</th>\n",
              "      <th>motivo_situacao_cadastral</th>\n",
              "      <th>nome_da_cidade_no_exterior</th>\n",
              "      <th>pais</th>\n",
              "      <th>...</th>\n",
              "      <th>municipio</th>\n",
              "      <th>ddd_1</th>\n",
              "      <th>telefone_1</th>\n",
              "      <th>ddd_2</th>\n",
              "      <th>telefone_2</th>\n",
              "      <th>ddd_do_fax</th>\n",
              "      <th>fax</th>\n",
              "      <th>correio_eletronico</th>\n",
              "      <th>situacao_especial</th>\n",
              "      <th>data_da_situacao_especial</th>\n",
              "    </tr>\n",
              "  </thead>\n",
              "  <tbody>\n",
              "    <tr>\n",
              "      <th>0</th>\n",
              "      <td>1879</td>\n",
              "      <td>1</td>\n",
              "      <td>96</td>\n",
              "      <td>1</td>\n",
              "      <td>PIRAMIDE M. C.</td>\n",
              "      <td>8</td>\n",
              "      <td>None</td>\n",
              "      <td>1</td>\n",
              "      <td>None</td>\n",
              "      <td>NaN</td>\n",
              "      <td>...</td>\n",
              "      <td>7107</td>\n",
              "      <td>None</td>\n",
              "      <td>None</td>\n",
              "      <td>None</td>\n",
              "      <td>None</td>\n",
              "      <td>NaN</td>\n",
              "      <td>None</td>\n",
              "      <td>None</td>\n",
              "      <td>None</td>\n",
              "      <td>None</td>\n",
              "    </tr>\n",
              "    <tr>\n",
              "      <th>1</th>\n",
              "      <td>2818</td>\n",
              "      <td>1</td>\n",
              "      <td>43</td>\n",
              "      <td>1</td>\n",
              "      <td>None</td>\n",
              "      <td>8</td>\n",
              "      <td>None</td>\n",
              "      <td>71</td>\n",
              "      <td>None</td>\n",
              "      <td>NaN</td>\n",
              "      <td>...</td>\n",
              "      <td>7107</td>\n",
              "      <td>None</td>\n",
              "      <td>None</td>\n",
              "      <td>None</td>\n",
              "      <td>None</td>\n",
              "      <td>NaN</td>\n",
              "      <td>None</td>\n",
              "      <td>None</td>\n",
              "      <td>None</td>\n",
              "      <td>None</td>\n",
              "    </tr>\n",
              "    <tr>\n",
              "      <th>2</th>\n",
              "      <td>3110</td>\n",
              "      <td>1</td>\n",
              "      <td>7</td>\n",
              "      <td>1</td>\n",
              "      <td>None</td>\n",
              "      <td>8</td>\n",
              "      <td>None</td>\n",
              "      <td>1</td>\n",
              "      <td>None</td>\n",
              "      <td>NaN</td>\n",
              "      <td>...</td>\n",
              "      <td>7107</td>\n",
              "      <td>None</td>\n",
              "      <td>None</td>\n",
              "      <td>None</td>\n",
              "      <td>None</td>\n",
              "      <td>NaN</td>\n",
              "      <td>None</td>\n",
              "      <td>None</td>\n",
              "      <td>None</td>\n",
              "      <td>None</td>\n",
              "    </tr>\n",
              "    <tr>\n",
              "      <th>3</th>\n",
              "      <td>3733</td>\n",
              "      <td>1</td>\n",
              "      <td>80</td>\n",
              "      <td>1</td>\n",
              "      <td>None</td>\n",
              "      <td>8</td>\n",
              "      <td>None</td>\n",
              "      <td>71</td>\n",
              "      <td>None</td>\n",
              "      <td>NaN</td>\n",
              "      <td>...</td>\n",
              "      <td>7107</td>\n",
              "      <td>None</td>\n",
              "      <td>None</td>\n",
              "      <td>None</td>\n",
              "      <td>None</td>\n",
              "      <td>NaN</td>\n",
              "      <td>None</td>\n",
              "      <td>None</td>\n",
              "      <td>None</td>\n",
              "      <td>None</td>\n",
              "    </tr>\n",
              "    <tr>\n",
              "      <th>4</th>\n",
              "      <td>4628</td>\n",
              "      <td>3</td>\n",
              "      <td>27</td>\n",
              "      <td>2</td>\n",
              "      <td>EMBROIDERY &amp; GIFT</td>\n",
              "      <td>8</td>\n",
              "      <td>None</td>\n",
              "      <td>1</td>\n",
              "      <td>None</td>\n",
              "      <td>NaN</td>\n",
              "      <td>...</td>\n",
              "      <td>7075</td>\n",
              "      <td>None</td>\n",
              "      <td>None</td>\n",
              "      <td>None</td>\n",
              "      <td>None</td>\n",
              "      <td>NaN</td>\n",
              "      <td>None</td>\n",
              "      <td>None</td>\n",
              "      <td>None</td>\n",
              "      <td>None</td>\n",
              "    </tr>\n",
              "  </tbody>\n",
              "</table>\n",
              "<p>5 rows × 30 columns</p>\n",
              "</div>\n",
              "      <button class=\"colab-df-convert\" onclick=\"convertToInteractive('df-b9a71641-94a5-4a5c-87c1-1683328eff57')\"\n",
              "              title=\"Convert this dataframe to an interactive table.\"\n",
              "              style=\"display:none;\">\n",
              "        \n",
              "  <svg xmlns=\"http://www.w3.org/2000/svg\" height=\"24px\"viewBox=\"0 0 24 24\"\n",
              "       width=\"24px\">\n",
              "    <path d=\"M0 0h24v24H0V0z\" fill=\"none\"/>\n",
              "    <path d=\"M18.56 5.44l.94 2.06.94-2.06 2.06-.94-2.06-.94-.94-2.06-.94 2.06-2.06.94zm-11 1L8.5 8.5l.94-2.06 2.06-.94-2.06-.94L8.5 2.5l-.94 2.06-2.06.94zm10 10l.94 2.06.94-2.06 2.06-.94-2.06-.94-.94-2.06-.94 2.06-2.06.94z\"/><path d=\"M17.41 7.96l-1.37-1.37c-.4-.4-.92-.59-1.43-.59-.52 0-1.04.2-1.43.59L10.3 9.45l-7.72 7.72c-.78.78-.78 2.05 0 2.83L4 21.41c.39.39.9.59 1.41.59.51 0 1.02-.2 1.41-.59l7.78-7.78 2.81-2.81c.8-.78.8-2.07 0-2.86zM5.41 20L4 18.59l7.72-7.72 1.47 1.35L5.41 20z\"/>\n",
              "  </svg>\n",
              "      </button>\n",
              "      \n",
              "  <style>\n",
              "    .colab-df-container {\n",
              "      display:flex;\n",
              "      flex-wrap:wrap;\n",
              "      gap: 12px;\n",
              "    }\n",
              "\n",
              "    .colab-df-convert {\n",
              "      background-color: #E8F0FE;\n",
              "      border: none;\n",
              "      border-radius: 50%;\n",
              "      cursor: pointer;\n",
              "      display: none;\n",
              "      fill: #1967D2;\n",
              "      height: 32px;\n",
              "      padding: 0 0 0 0;\n",
              "      width: 32px;\n",
              "    }\n",
              "\n",
              "    .colab-df-convert:hover {\n",
              "      background-color: #E2EBFA;\n",
              "      box-shadow: 0px 1px 2px rgba(60, 64, 67, 0.3), 0px 1px 3px 1px rgba(60, 64, 67, 0.15);\n",
              "      fill: #174EA6;\n",
              "    }\n",
              "\n",
              "    [theme=dark] .colab-df-convert {\n",
              "      background-color: #3B4455;\n",
              "      fill: #D2E3FC;\n",
              "    }\n",
              "\n",
              "    [theme=dark] .colab-df-convert:hover {\n",
              "      background-color: #434B5C;\n",
              "      box-shadow: 0px 1px 3px 1px rgba(0, 0, 0, 0.15);\n",
              "      filter: drop-shadow(0px 1px 2px rgba(0, 0, 0, 0.3));\n",
              "      fill: #FFFFFF;\n",
              "    }\n",
              "  </style>\n",
              "\n",
              "      <script>\n",
              "        const buttonEl =\n",
              "          document.querySelector('#df-b9a71641-94a5-4a5c-87c1-1683328eff57 button.colab-df-convert');\n",
              "        buttonEl.style.display =\n",
              "          google.colab.kernel.accessAllowed ? 'block' : 'none';\n",
              "\n",
              "        async function convertToInteractive(key) {\n",
              "          const element = document.querySelector('#df-b9a71641-94a5-4a5c-87c1-1683328eff57');\n",
              "          const dataTable =\n",
              "            await google.colab.kernel.invokeFunction('convertToInteractive',\n",
              "                                                     [key], {});\n",
              "          if (!dataTable) return;\n",
              "\n",
              "          const docLinkHtml = 'Like what you see? Visit the ' +\n",
              "            '<a target=\"_blank\" href=https://colab.research.google.com/notebooks/data_table.ipynb>data table notebook</a>'\n",
              "            + ' to learn more about interactive tables.';\n",
              "          element.innerHTML = '';\n",
              "          dataTable['output_type'] = 'display_data';\n",
              "          await google.colab.output.renderOutput(dataTable, element);\n",
              "          const docLink = document.createElement('div');\n",
              "          docLink.innerHTML = docLinkHtml;\n",
              "          element.appendChild(docLink);\n",
              "        }\n",
              "      </script>\n",
              "    </div>\n",
              "  </div>\n",
              "  "
            ]
          },
          "metadata": {},
          "execution_count": 32
        }
      ]
    },
    {
      "cell_type": "code",
      "source": [
        "socios.printSchema()"
      ],
      "metadata": {
        "id": "6DfSBlMfHhSb",
        "outputId": "ec06bf24-f416-40c0-f8fd-abf80901b263",
        "colab": {
          "base_uri": "https://localhost:8080/"
        }
      },
      "execution_count": 33,
      "outputs": [
        {
          "output_type": "stream",
          "name": "stdout",
          "text": [
            "root\n",
            " |-- cnpj_basico: integer (nullable = true)\n",
            " |-- identificador_de_socio: integer (nullable = true)\n",
            " |-- nome_do_socio_ou_razao_social: string (nullable = true)\n",
            " |-- cnpj_ou_cpf_do_socio: string (nullable = true)\n",
            " |-- qualificacao_do_socio: integer (nullable = true)\n",
            " |-- data_de_entrada_sociedade: integer (nullable = true)\n",
            " |-- pais: integer (nullable = true)\n",
            " |-- representante_legal: string (nullable = true)\n",
            " |-- nome_do_representante: string (nullable = true)\n",
            " |-- qualificacao_do_representante_legal: integer (nullable = true)\n",
            " |-- faixa_etaria: integer (nullable = true)\n",
            "\n"
          ]
        }
      ]
    },
    {
      "cell_type": "code",
      "source": [
        "#mudar o formato de data \n",
        "socios = socios.withColumn(\"data_de_entrada_sociedade\", \n",
        "      to_date(socios.data_de_entrada_sociedade.cast(StringType()), 'yyyyMMdd'))\n",
        "\n",
        "socios.printSchema()\n",
        "\n",
        "socios.limit(5).toPandas()"
      ],
      "metadata": {
        "id": "XfmcTdHMHz07",
        "outputId": "e4caf47a-3896-4fae-c9bc-dfc8f63c1714",
        "colab": {
          "base_uri": "https://localhost:8080/",
          "height": 531
        }
      },
      "execution_count": 34,
      "outputs": [
        {
          "output_type": "stream",
          "name": "stdout",
          "text": [
            "root\n",
            " |-- cnpj_basico: integer (nullable = true)\n",
            " |-- identificador_de_socio: integer (nullable = true)\n",
            " |-- nome_do_socio_ou_razao_social: string (nullable = true)\n",
            " |-- cnpj_ou_cpf_do_socio: string (nullable = true)\n",
            " |-- qualificacao_do_socio: integer (nullable = true)\n",
            " |-- data_de_entrada_sociedade: date (nullable = true)\n",
            " |-- pais: integer (nullable = true)\n",
            " |-- representante_legal: string (nullable = true)\n",
            " |-- nome_do_representante: string (nullable = true)\n",
            " |-- qualificacao_do_representante_legal: integer (nullable = true)\n",
            " |-- faixa_etaria: integer (nullable = true)\n",
            "\n"
          ]
        },
        {
          "output_type": "execute_result",
          "data": {
            "text/plain": [
              "   cnpj_basico  identificador_de_socio    nome_do_socio_ou_razao_social  \\\n",
              "0          411                       2      LILIANA PATRICIA GUASTAVINO   \n",
              "1          411                       2             CRISTINA HUNDERTMARK   \n",
              "2         5813                       2  CELSO EDUARDO DE CASTRO STEPHAN   \n",
              "3         5813                       2        EDUARDO BERRINGER STEPHAN   \n",
              "4        14798                       2              HANNE MAHFOUD FADEL   \n",
              "\n",
              "  cnpj_ou_cpf_do_socio  qualificacao_do_socio data_de_entrada_sociedade  pais  \\\n",
              "0          ***678188**                     22                1994-07-25   NaN   \n",
              "1          ***637848**                     28                1994-07-25   NaN   \n",
              "2          ***786068**                     49                1994-05-16   NaN   \n",
              "3          ***442348**                     49                1994-05-16   NaN   \n",
              "4          ***760388**                     49                1994-06-09   NaN   \n",
              "\n",
              "  representante_legal nome_do_representante  \\\n",
              "0         ***000000**                  None   \n",
              "1         ***000000**                  None   \n",
              "2         ***000000**                  None   \n",
              "3         ***000000**                  None   \n",
              "4         ***000000**                  None   \n",
              "\n",
              "   qualificacao_do_representante_legal  faixa_etaria  \n",
              "0                                    0             7  \n",
              "1                                    0             7  \n",
              "2                                    0             8  \n",
              "3                                    0             5  \n",
              "4                                    0             8  "
            ],
            "text/html": [
              "\n",
              "  <div id=\"df-3122a057-7d53-4622-a72c-8fa38ee96387\">\n",
              "    <div class=\"colab-df-container\">\n",
              "      <div>\n",
              "<style scoped>\n",
              "    .dataframe tbody tr th:only-of-type {\n",
              "        vertical-align: middle;\n",
              "    }\n",
              "\n",
              "    .dataframe tbody tr th {\n",
              "        vertical-align: top;\n",
              "    }\n",
              "\n",
              "    .dataframe thead th {\n",
              "        text-align: right;\n",
              "    }\n",
              "</style>\n",
              "<table border=\"1\" class=\"dataframe\">\n",
              "  <thead>\n",
              "    <tr style=\"text-align: right;\">\n",
              "      <th></th>\n",
              "      <th>cnpj_basico</th>\n",
              "      <th>identificador_de_socio</th>\n",
              "      <th>nome_do_socio_ou_razao_social</th>\n",
              "      <th>cnpj_ou_cpf_do_socio</th>\n",
              "      <th>qualificacao_do_socio</th>\n",
              "      <th>data_de_entrada_sociedade</th>\n",
              "      <th>pais</th>\n",
              "      <th>representante_legal</th>\n",
              "      <th>nome_do_representante</th>\n",
              "      <th>qualificacao_do_representante_legal</th>\n",
              "      <th>faixa_etaria</th>\n",
              "    </tr>\n",
              "  </thead>\n",
              "  <tbody>\n",
              "    <tr>\n",
              "      <th>0</th>\n",
              "      <td>411</td>\n",
              "      <td>2</td>\n",
              "      <td>LILIANA PATRICIA GUASTAVINO</td>\n",
              "      <td>***678188**</td>\n",
              "      <td>22</td>\n",
              "      <td>1994-07-25</td>\n",
              "      <td>NaN</td>\n",
              "      <td>***000000**</td>\n",
              "      <td>None</td>\n",
              "      <td>0</td>\n",
              "      <td>7</td>\n",
              "    </tr>\n",
              "    <tr>\n",
              "      <th>1</th>\n",
              "      <td>411</td>\n",
              "      <td>2</td>\n",
              "      <td>CRISTINA HUNDERTMARK</td>\n",
              "      <td>***637848**</td>\n",
              "      <td>28</td>\n",
              "      <td>1994-07-25</td>\n",
              "      <td>NaN</td>\n",
              "      <td>***000000**</td>\n",
              "      <td>None</td>\n",
              "      <td>0</td>\n",
              "      <td>7</td>\n",
              "    </tr>\n",
              "    <tr>\n",
              "      <th>2</th>\n",
              "      <td>5813</td>\n",
              "      <td>2</td>\n",
              "      <td>CELSO EDUARDO DE CASTRO STEPHAN</td>\n",
              "      <td>***786068**</td>\n",
              "      <td>49</td>\n",
              "      <td>1994-05-16</td>\n",
              "      <td>NaN</td>\n",
              "      <td>***000000**</td>\n",
              "      <td>None</td>\n",
              "      <td>0</td>\n",
              "      <td>8</td>\n",
              "    </tr>\n",
              "    <tr>\n",
              "      <th>3</th>\n",
              "      <td>5813</td>\n",
              "      <td>2</td>\n",
              "      <td>EDUARDO BERRINGER STEPHAN</td>\n",
              "      <td>***442348**</td>\n",
              "      <td>49</td>\n",
              "      <td>1994-05-16</td>\n",
              "      <td>NaN</td>\n",
              "      <td>***000000**</td>\n",
              "      <td>None</td>\n",
              "      <td>0</td>\n",
              "      <td>5</td>\n",
              "    </tr>\n",
              "    <tr>\n",
              "      <th>4</th>\n",
              "      <td>14798</td>\n",
              "      <td>2</td>\n",
              "      <td>HANNE MAHFOUD FADEL</td>\n",
              "      <td>***760388**</td>\n",
              "      <td>49</td>\n",
              "      <td>1994-06-09</td>\n",
              "      <td>NaN</td>\n",
              "      <td>***000000**</td>\n",
              "      <td>None</td>\n",
              "      <td>0</td>\n",
              "      <td>8</td>\n",
              "    </tr>\n",
              "  </tbody>\n",
              "</table>\n",
              "</div>\n",
              "      <button class=\"colab-df-convert\" onclick=\"convertToInteractive('df-3122a057-7d53-4622-a72c-8fa38ee96387')\"\n",
              "              title=\"Convert this dataframe to an interactive table.\"\n",
              "              style=\"display:none;\">\n",
              "        \n",
              "  <svg xmlns=\"http://www.w3.org/2000/svg\" height=\"24px\"viewBox=\"0 0 24 24\"\n",
              "       width=\"24px\">\n",
              "    <path d=\"M0 0h24v24H0V0z\" fill=\"none\"/>\n",
              "    <path d=\"M18.56 5.44l.94 2.06.94-2.06 2.06-.94-2.06-.94-.94-2.06-.94 2.06-2.06.94zm-11 1L8.5 8.5l.94-2.06 2.06-.94-2.06-.94L8.5 2.5l-.94 2.06-2.06.94zm10 10l.94 2.06.94-2.06 2.06-.94-2.06-.94-.94-2.06-.94 2.06-2.06.94z\"/><path d=\"M17.41 7.96l-1.37-1.37c-.4-.4-.92-.59-1.43-.59-.52 0-1.04.2-1.43.59L10.3 9.45l-7.72 7.72c-.78.78-.78 2.05 0 2.83L4 21.41c.39.39.9.59 1.41.59.51 0 1.02-.2 1.41-.59l7.78-7.78 2.81-2.81c.8-.78.8-2.07 0-2.86zM5.41 20L4 18.59l7.72-7.72 1.47 1.35L5.41 20z\"/>\n",
              "  </svg>\n",
              "      </button>\n",
              "      \n",
              "  <style>\n",
              "    .colab-df-container {\n",
              "      display:flex;\n",
              "      flex-wrap:wrap;\n",
              "      gap: 12px;\n",
              "    }\n",
              "\n",
              "    .colab-df-convert {\n",
              "      background-color: #E8F0FE;\n",
              "      border: none;\n",
              "      border-radius: 50%;\n",
              "      cursor: pointer;\n",
              "      display: none;\n",
              "      fill: #1967D2;\n",
              "      height: 32px;\n",
              "      padding: 0 0 0 0;\n",
              "      width: 32px;\n",
              "    }\n",
              "\n",
              "    .colab-df-convert:hover {\n",
              "      background-color: #E2EBFA;\n",
              "      box-shadow: 0px 1px 2px rgba(60, 64, 67, 0.3), 0px 1px 3px 1px rgba(60, 64, 67, 0.15);\n",
              "      fill: #174EA6;\n",
              "    }\n",
              "\n",
              "    [theme=dark] .colab-df-convert {\n",
              "      background-color: #3B4455;\n",
              "      fill: #D2E3FC;\n",
              "    }\n",
              "\n",
              "    [theme=dark] .colab-df-convert:hover {\n",
              "      background-color: #434B5C;\n",
              "      box-shadow: 0px 1px 3px 1px rgba(0, 0, 0, 0.15);\n",
              "      filter: drop-shadow(0px 1px 2px rgba(0, 0, 0, 0.3));\n",
              "      fill: #FFFFFF;\n",
              "    }\n",
              "  </style>\n",
              "\n",
              "      <script>\n",
              "        const buttonEl =\n",
              "          document.querySelector('#df-3122a057-7d53-4622-a72c-8fa38ee96387 button.colab-df-convert');\n",
              "        buttonEl.style.display =\n",
              "          google.colab.kernel.accessAllowed ? 'block' : 'none';\n",
              "\n",
              "        async function convertToInteractive(key) {\n",
              "          const element = document.querySelector('#df-3122a057-7d53-4622-a72c-8fa38ee96387');\n",
              "          const dataTable =\n",
              "            await google.colab.kernel.invokeFunction('convertToInteractive',\n",
              "                                                     [key], {});\n",
              "          if (!dataTable) return;\n",
              "\n",
              "          const docLinkHtml = 'Like what you see? Visit the ' +\n",
              "            '<a target=\"_blank\" href=https://colab.research.google.com/notebooks/data_table.ipynb>data table notebook</a>'\n",
              "            + ' to learn more about interactive tables.';\n",
              "          element.innerHTML = '';\n",
              "          dataTable['output_type'] = 'display_data';\n",
              "          await google.colab.output.renderOutput(dataTable, element);\n",
              "          const docLink = document.createElement('div');\n",
              "          docLink.innerHTML = docLinkHtml;\n",
              "          element.appendChild(docLink);\n",
              "        }\n",
              "      </script>\n",
              "    </div>\n",
              "  </div>\n",
              "  "
            ]
          },
          "metadata": {},
          "execution_count": 34
        }
      ]
    },
    {
      "cell_type": "markdown",
      "source": [
        "#distinct & dropDuplicates\n",
        "\n",
        "https://towardsdatascience.com/distinct-vs-dropduplicates-in-spark-3e28af1f793c"
      ],
      "metadata": {
        "id": "QhDtZfYy_-HO"
      }
    },
    {
      "cell_type": "code",
      "source": [
        "empresas.distinct()"
      ],
      "metadata": {
        "id": "NaJxnEWr3Bll",
        "outputId": "32543389-1b73-4cce-e539-4896264d4886",
        "colab": {
          "base_uri": "https://localhost:8080/"
        }
      },
      "execution_count": 35,
      "outputs": [
        {
          "output_type": "execute_result",
          "data": {
            "text/plain": [
              "DataFrame[cnpj_basico: int, razao_social_nome_empresarial: string, natureza_juridica: int, qualificacao_do_responsavel: int, capital_social_da_empresa: double, porte_da_empresa: int, ente_federativo_responsavel: string]"
            ]
          },
          "metadata": {},
          "execution_count": 35
        }
      ]
    },
    {
      "cell_type": "code",
      "source": [
        "empresas.dropDuplicates(['porte_da_empresa']).show()"
      ],
      "metadata": {
        "id": "bMHCYFEW_cIB",
        "outputId": "5a41329e-14b6-4e28-df61-4ac343dfafdc",
        "colab": {
          "base_uri": "https://localhost:8080/"
        }
      },
      "execution_count": 44,
      "outputs": [
        {
          "output_type": "stream",
          "name": "stdout",
          "text": [
            "+-----------+-----------------------------+-----------------+---------------------------+-------------------------+----------------+---------------------------+\n",
            "|cnpj_basico|razao_social_nome_empresarial|natureza_juridica|qualificacao_do_responsavel|capital_social_da_empresa|porte_da_empresa|ente_federativo_responsavel|\n",
            "+-----------+-----------------------------+-----------------+---------------------------+-------------------------+----------------+---------------------------+\n",
            "|   13275457|         GRAN TIERRA BRAZC...|             2216|                         17|                      0.0|               0|                       null|\n",
            "|   22648271|         ROBERTA DAMIANA D...|             2135|                         50|                      1.0|               1|                       null|\n",
            "|   22652864|         MDS DUTRA SERVICO...|             2305|                         65|                  90000.0|               3|                       null|\n",
            "|   22656490|         FUED CAMILO SAD &...|             2062|                         49|                      0.0|               5|                       null|\n",
            "+-----------+-----------------------------+-----------------+---------------------------+-------------------------+----------------+---------------------------+\n",
            "\n"
          ]
        }
      ]
    },
    {
      "cell_type": "code",
      "source": [
        "#valores unicos\n",
        "empresas.select('porte_da_empresa').distinct().show()"
      ],
      "metadata": {
        "id": "Jh01MYbh3Qqx",
        "outputId": "83822c9d-6472-4a06-ef7a-bd59e859800b",
        "colab": {
          "base_uri": "https://localhost:8080/"
        }
      },
      "execution_count": 38,
      "outputs": [
        {
          "output_type": "stream",
          "name": "stdout",
          "text": [
            "+----------------+\n",
            "|porte_da_empresa|\n",
            "+----------------+\n",
            "|            null|\n",
            "|               1|\n",
            "|               3|\n",
            "|               5|\n",
            "+----------------+\n",
            "\n"
          ]
        }
      ]
    },
    {
      "cell_type": "markdown",
      "source": [
        "#seleções e consulta"
      ],
      "metadata": {
        "id": "uii0-9rSIeBA"
      }
    },
    {
      "cell_type": "code",
      "source": [
        "#show segundo parametro truncar as colunas\n",
        "empresas.select('*').show(5, False)"
      ],
      "metadata": {
        "id": "BuOn0Y7kIpgh",
        "outputId": "a501d2c0-5dc6-4c69-b35c-af0849db3ee5",
        "colab": {
          "base_uri": "https://localhost:8080/"
        }
      },
      "execution_count": 17,
      "outputs": [
        {
          "output_type": "stream",
          "name": "stdout",
          "text": [
            "+----+--------------------------------------------------------------------------------------------+----+---+-------+---+----+\n",
            "|_c0 |_c1                                                                                         |_c2 |_c3|_c4    |_c5|_c6 |\n",
            "+----+--------------------------------------------------------------------------------------------+----+---+-------+---+----+\n",
            "|306 |FRANCAMAR REFRIGERACAO TECNICA S/C LTDA                                                     |2240|49 |0,00   |1  |null|\n",
            "|1355|BRASILEIRO & OLIVEIRA LTDA                                                                  |2062|49 |0,00   |5  |null|\n",
            "|4820|REGISTRO DE IMOVEIS, TABELIONATO 1 DE NOTAS E TABELIONATO E REGISTRO DE CONSTRATOS MARITIMOS|3034|32 |0,00   |5  |null|\n",
            "|5347|ROSELY APARECIDA MONTEIRO CALTABIANO FREITAS                                                |2135|50 |0,00   |5  |null|\n",
            "|6846|BADU E FILHOS TECIDOS LTDA                                                                  |2062|49 |4000,00|1  |null|\n",
            "+----+--------------------------------------------------------------------------------------------+----+---+-------+---+----+\n",
            "only showing top 5 rows\n",
            "\n"
          ]
        }
      ]
    },
    {
      "cell_type": "code",
      "source": [
        "#selecinar algumas colunas\n",
        "empresas.select('natureza_juridica', 'porte_da_empresa', 'capital_social_da_empresa').show(5)"
      ],
      "metadata": {
        "id": "x_xRTFhDI5yZ",
        "outputId": "f2ddc306-64a0-4755-82c3-4d3192c3b1b2",
        "colab": {
          "base_uri": "https://localhost:8080/"
        }
      },
      "execution_count": 31,
      "outputs": [
        {
          "output_type": "stream",
          "name": "stdout",
          "text": [
            "+-----------------+----------------+-------------------------+\n",
            "|natureza_juridica|porte_da_empresa|capital_social_da_empresa|\n",
            "+-----------------+----------------+-------------------------+\n",
            "|             2240|               1|                      0.0|\n",
            "|             2062|               5|                      0.0|\n",
            "|             3034|               5|                      0.0|\n",
            "|             2135|               5|                      0.0|\n",
            "|             2062|               1|                   4000.0|\n",
            "+-----------------+----------------+-------------------------+\n",
            "only showing top 5 rows\n",
            "\n"
          ]
        }
      ]
    },
    {
      "cell_type": "code",
      "source": [
        "#incluir nova coluna com outro nome\n",
        "socios\\\n",
        "  .select('nome_do_socio_ou_razao_social','faixa_etaria', \n",
        "          year('data_de_entrada_sociedade').alias(\"ano_entrada\"))\\\n",
        "  .show(5)"
      ],
      "metadata": {
        "id": "D9oZ2m0LJbO9",
        "outputId": "c21bfa17-acf1-481e-b1de-243f70e352ea",
        "colab": {
          "base_uri": "https://localhost:8080/"
        }
      },
      "execution_count": 32,
      "outputs": [
        {
          "output_type": "stream",
          "name": "stdout",
          "text": [
            "+-----------------------------+------------+-----------+\n",
            "|nome_do_socio_ou_razao_social|faixa_etaria|ano_entrada|\n",
            "+-----------------------------+------------+-----------+\n",
            "|         LILIANA PATRICIA ...|           7|       null|\n",
            "|         CRISTINA HUNDERTMARK|           7|       null|\n",
            "|         CELSO EDUARDO DE ...|           8|       null|\n",
            "|         EDUARDO BERRINGER...|           5|       null|\n",
            "|          HANNE MAHFOUD FADEL|           8|       null|\n",
            "+-----------------------------+------------+-----------+\n",
            "only showing top 5 rows\n",
            "\n"
          ]
        }
      ]
    },
    {
      "cell_type": "code",
      "source": [
        "#a função concat_ws concatena (junta) várias colunas de strings em uma única coluna utilizando como separador a informação fornecida no primeiro argumento. \n",
        "#Outra função que utilizamos foi a substring_index que divide uma string de acordo com um delimitador específico e retorna a substring de acordo com sua posição. Observe que quando queremos pegar a última ocorrência podemos utilizar o índice -1.\n",
        "socios\\\n",
        "    .select(\n",
        "        concat_ws(\n",
        "            ', ', \n",
        "            substring_index('nome_do_socio_ou_razao_social', ' ', -1), \n",
        "            substring_index('nome_do_socio_ou_razao_social', ' ', 1)\n",
        "        ).alias('razao_social'), \n",
        "        'faixa_etaria')\\\n",
        "    .show(truncate=False)"
      ],
      "metadata": {
        "id": "yN_ts5qLLFO6",
        "outputId": "9cb7590d-a679-43a2-db1a-e0d97ba9eadc",
        "colab": {
          "base_uri": "https://localhost:8080/"
        }
      },
      "execution_count": 40,
      "outputs": [
        {
          "output_type": "stream",
          "name": "stdout",
          "text": [
            "+---------------------+------------+\n",
            "|razao_social         |faixa_etaria|\n",
            "+---------------------+------------+\n",
            "|GUASTAVINO, LILIANA  |7           |\n",
            "|HUNDERTMARK, CRISTINA|7           |\n",
            "|STEPHAN, CELSO       |8           |\n",
            "|STEPHAN, EDUARDO     |5           |\n",
            "|FADEL, HANNE         |8           |\n",
            "|FADEL, CLOD          |6           |\n",
            "|ALGARVES, WALKYRIA   |7           |\n",
            "|NUNES, SEBASTIAO     |5           |\n",
            "|ADAMO, JOSE          |7           |\n",
            "|ADAMO, ROSEMARY      |6           |\n",
            "|MOTTA, MARCOS        |7           |\n",
            "|ALENCAR, EDVAN       |5           |\n",
            "|COLINO, JAIME        |6           |\n",
            "|LEONE, SANDRA        |6           |\n",
            "|VICENTE, LEIDA       |6           |\n",
            "|REGO, DONZILIA       |8           |\n",
            "|REGO, ISRAEL         |5           |\n",
            "|TEIXEIRA, VALERIA    |6           |\n",
            "|LIVRAMENTO, CARLOS   |5           |\n",
            "|MOURA, IVAN          |7           |\n",
            "+---------------------+------------+\n",
            "only showing top 20 rows\n",
            "\n"
          ]
        }
      ]
    },
    {
      "cell_type": "markdown",
      "source": [
        "#Como lidar com valores Vazio"
      ],
      "metadata": {
        "id": "CsBAz7OrgkPl"
      }
    },
    {
      "cell_type": "code",
      "source": [
        "# None e NaN\n",
        "socios.limit(5).toPandas()"
      ],
      "metadata": {
        "id": "VQvZutmEQHIH",
        "outputId": "81c09cfd-81f7-4053-942f-06a061147f34",
        "colab": {
          "base_uri": "https://localhost:8080/",
          "height": 305
        }
      },
      "execution_count": 59,
      "outputs": [
        {
          "output_type": "execute_result",
          "data": {
            "text/plain": [
              "   cnpj_basico  identificador_de_socio    nome_do_socio_ou_razao_social  \\\n",
              "0          411                       2      LILIANA PATRICIA GUASTAVINO   \n",
              "1          411                       2             CRISTINA HUNDERTMARK   \n",
              "2         5813                       2  CELSO EDUARDO DE CASTRO STEPHAN   \n",
              "3         5813                       2        EDUARDO BERRINGER STEPHAN   \n",
              "4        14798                       2              HANNE MAHFOUD FADEL   \n",
              "\n",
              "  cnpj_ou_cpf_do_socio  qualificacao_do_socio data_de_entrada_sociedade  pais  \\\n",
              "0          ***678188**                     22                1994-07-25   NaN   \n",
              "1          ***637848**                     28                1994-07-25   NaN   \n",
              "2          ***786068**                     49                1994-05-16   NaN   \n",
              "3          ***442348**                     49                1994-05-16   NaN   \n",
              "4          ***760388**                     49                1994-06-09   NaN   \n",
              "\n",
              "  representante_legal nome_do_representante  \\\n",
              "0         ***000000**                  None   \n",
              "1         ***000000**                  None   \n",
              "2         ***000000**                  None   \n",
              "3         ***000000**                  None   \n",
              "4         ***000000**                  None   \n",
              "\n",
              "   qualificacao_do_representante_legal  faixa_etaria  \n",
              "0                                    0             7  \n",
              "1                                    0             7  \n",
              "2                                    0             8  \n",
              "3                                    0             5  \n",
              "4                                    0             8  "
            ],
            "text/html": [
              "\n",
              "  <div id=\"df-d2d1c576-bf6c-4517-87e7-81564bfa08fb\">\n",
              "    <div class=\"colab-df-container\">\n",
              "      <div>\n",
              "<style scoped>\n",
              "    .dataframe tbody tr th:only-of-type {\n",
              "        vertical-align: middle;\n",
              "    }\n",
              "\n",
              "    .dataframe tbody tr th {\n",
              "        vertical-align: top;\n",
              "    }\n",
              "\n",
              "    .dataframe thead th {\n",
              "        text-align: right;\n",
              "    }\n",
              "</style>\n",
              "<table border=\"1\" class=\"dataframe\">\n",
              "  <thead>\n",
              "    <tr style=\"text-align: right;\">\n",
              "      <th></th>\n",
              "      <th>cnpj_basico</th>\n",
              "      <th>identificador_de_socio</th>\n",
              "      <th>nome_do_socio_ou_razao_social</th>\n",
              "      <th>cnpj_ou_cpf_do_socio</th>\n",
              "      <th>qualificacao_do_socio</th>\n",
              "      <th>data_de_entrada_sociedade</th>\n",
              "      <th>pais</th>\n",
              "      <th>representante_legal</th>\n",
              "      <th>nome_do_representante</th>\n",
              "      <th>qualificacao_do_representante_legal</th>\n",
              "      <th>faixa_etaria</th>\n",
              "    </tr>\n",
              "  </thead>\n",
              "  <tbody>\n",
              "    <tr>\n",
              "      <th>0</th>\n",
              "      <td>411</td>\n",
              "      <td>2</td>\n",
              "      <td>LILIANA PATRICIA GUASTAVINO</td>\n",
              "      <td>***678188**</td>\n",
              "      <td>22</td>\n",
              "      <td>1994-07-25</td>\n",
              "      <td>NaN</td>\n",
              "      <td>***000000**</td>\n",
              "      <td>None</td>\n",
              "      <td>0</td>\n",
              "      <td>7</td>\n",
              "    </tr>\n",
              "    <tr>\n",
              "      <th>1</th>\n",
              "      <td>411</td>\n",
              "      <td>2</td>\n",
              "      <td>CRISTINA HUNDERTMARK</td>\n",
              "      <td>***637848**</td>\n",
              "      <td>28</td>\n",
              "      <td>1994-07-25</td>\n",
              "      <td>NaN</td>\n",
              "      <td>***000000**</td>\n",
              "      <td>None</td>\n",
              "      <td>0</td>\n",
              "      <td>7</td>\n",
              "    </tr>\n",
              "    <tr>\n",
              "      <th>2</th>\n",
              "      <td>5813</td>\n",
              "      <td>2</td>\n",
              "      <td>CELSO EDUARDO DE CASTRO STEPHAN</td>\n",
              "      <td>***786068**</td>\n",
              "      <td>49</td>\n",
              "      <td>1994-05-16</td>\n",
              "      <td>NaN</td>\n",
              "      <td>***000000**</td>\n",
              "      <td>None</td>\n",
              "      <td>0</td>\n",
              "      <td>8</td>\n",
              "    </tr>\n",
              "    <tr>\n",
              "      <th>3</th>\n",
              "      <td>5813</td>\n",
              "      <td>2</td>\n",
              "      <td>EDUARDO BERRINGER STEPHAN</td>\n",
              "      <td>***442348**</td>\n",
              "      <td>49</td>\n",
              "      <td>1994-05-16</td>\n",
              "      <td>NaN</td>\n",
              "      <td>***000000**</td>\n",
              "      <td>None</td>\n",
              "      <td>0</td>\n",
              "      <td>5</td>\n",
              "    </tr>\n",
              "    <tr>\n",
              "      <th>4</th>\n",
              "      <td>14798</td>\n",
              "      <td>2</td>\n",
              "      <td>HANNE MAHFOUD FADEL</td>\n",
              "      <td>***760388**</td>\n",
              "      <td>49</td>\n",
              "      <td>1994-06-09</td>\n",
              "      <td>NaN</td>\n",
              "      <td>***000000**</td>\n",
              "      <td>None</td>\n",
              "      <td>0</td>\n",
              "      <td>8</td>\n",
              "    </tr>\n",
              "  </tbody>\n",
              "</table>\n",
              "</div>\n",
              "      <button class=\"colab-df-convert\" onclick=\"convertToInteractive('df-d2d1c576-bf6c-4517-87e7-81564bfa08fb')\"\n",
              "              title=\"Convert this dataframe to an interactive table.\"\n",
              "              style=\"display:none;\">\n",
              "        \n",
              "  <svg xmlns=\"http://www.w3.org/2000/svg\" height=\"24px\"viewBox=\"0 0 24 24\"\n",
              "       width=\"24px\">\n",
              "    <path d=\"M0 0h24v24H0V0z\" fill=\"none\"/>\n",
              "    <path d=\"M18.56 5.44l.94 2.06.94-2.06 2.06-.94-2.06-.94-.94-2.06-.94 2.06-2.06.94zm-11 1L8.5 8.5l.94-2.06 2.06-.94-2.06-.94L8.5 2.5l-.94 2.06-2.06.94zm10 10l.94 2.06.94-2.06 2.06-.94-2.06-.94-.94-2.06-.94 2.06-2.06.94z\"/><path d=\"M17.41 7.96l-1.37-1.37c-.4-.4-.92-.59-1.43-.59-.52 0-1.04.2-1.43.59L10.3 9.45l-7.72 7.72c-.78.78-.78 2.05 0 2.83L4 21.41c.39.39.9.59 1.41.59.51 0 1.02-.2 1.41-.59l7.78-7.78 2.81-2.81c.8-.78.8-2.07 0-2.86zM5.41 20L4 18.59l7.72-7.72 1.47 1.35L5.41 20z\"/>\n",
              "  </svg>\n",
              "      </button>\n",
              "      \n",
              "  <style>\n",
              "    .colab-df-container {\n",
              "      display:flex;\n",
              "      flex-wrap:wrap;\n",
              "      gap: 12px;\n",
              "    }\n",
              "\n",
              "    .colab-df-convert {\n",
              "      background-color: #E8F0FE;\n",
              "      border: none;\n",
              "      border-radius: 50%;\n",
              "      cursor: pointer;\n",
              "      display: none;\n",
              "      fill: #1967D2;\n",
              "      height: 32px;\n",
              "      padding: 0 0 0 0;\n",
              "      width: 32px;\n",
              "    }\n",
              "\n",
              "    .colab-df-convert:hover {\n",
              "      background-color: #E2EBFA;\n",
              "      box-shadow: 0px 1px 2px rgba(60, 64, 67, 0.3), 0px 1px 3px 1px rgba(60, 64, 67, 0.15);\n",
              "      fill: #174EA6;\n",
              "    }\n",
              "\n",
              "    [theme=dark] .colab-df-convert {\n",
              "      background-color: #3B4455;\n",
              "      fill: #D2E3FC;\n",
              "    }\n",
              "\n",
              "    [theme=dark] .colab-df-convert:hover {\n",
              "      background-color: #434B5C;\n",
              "      box-shadow: 0px 1px 3px 1px rgba(0, 0, 0, 0.15);\n",
              "      filter: drop-shadow(0px 1px 2px rgba(0, 0, 0, 0.3));\n",
              "      fill: #FFFFFF;\n",
              "    }\n",
              "  </style>\n",
              "\n",
              "      <script>\n",
              "        const buttonEl =\n",
              "          document.querySelector('#df-d2d1c576-bf6c-4517-87e7-81564bfa08fb button.colab-df-convert');\n",
              "        buttonEl.style.display =\n",
              "          google.colab.kernel.accessAllowed ? 'block' : 'none';\n",
              "\n",
              "        async function convertToInteractive(key) {\n",
              "          const element = document.querySelector('#df-d2d1c576-bf6c-4517-87e7-81564bfa08fb');\n",
              "          const dataTable =\n",
              "            await google.colab.kernel.invokeFunction('convertToInteractive',\n",
              "                                                     [key], {});\n",
              "          if (!dataTable) return;\n",
              "\n",
              "          const docLinkHtml = 'Like what you see? Visit the ' +\n",
              "            '<a target=\"_blank\" href=https://colab.research.google.com/notebooks/data_table.ipynb>data table notebook</a>'\n",
              "            + ' to learn more about interactive tables.';\n",
              "          element.innerHTML = '';\n",
              "          dataTable['output_type'] = 'display_data';\n",
              "          await google.colab.output.renderOutput(dataTable, element);\n",
              "          const docLink = document.createElement('div');\n",
              "          docLink.innerHTML = docLinkHtml;\n",
              "          element.appendChild(docLink);\n",
              "        }\n",
              "      </script>\n",
              "    </div>\n",
              "  </div>\n",
              "  "
            ]
          },
          "metadata": {},
          "execution_count": 59
        }
      ]
    },
    {
      "cell_type": "code",
      "source": [
        "# Nulos\n",
        "socios.limit(5).show()"
      ],
      "metadata": {
        "id": "xjvaX0AEghlg",
        "outputId": "1a8bf0a5-1e62-4dd1-b78b-41fcf91f5651",
        "colab": {
          "base_uri": "https://localhost:8080/"
        }
      },
      "execution_count": 60,
      "outputs": [
        {
          "output_type": "stream",
          "name": "stdout",
          "text": [
            "+-----------+----------------------+-----------------------------+--------------------+---------------------+-------------------------+----+-------------------+---------------------+-----------------------------------+------------+\n",
            "|cnpj_basico|identificador_de_socio|nome_do_socio_ou_razao_social|cnpj_ou_cpf_do_socio|qualificacao_do_socio|data_de_entrada_sociedade|pais|representante_legal|nome_do_representante|qualificacao_do_representante_legal|faixa_etaria|\n",
            "+-----------+----------------------+-----------------------------+--------------------+---------------------+-------------------------+----+-------------------+---------------------+-----------------------------------+------------+\n",
            "|        411|                     2|         LILIANA PATRICIA ...|         ***678188**|                   22|               1994-07-25|null|        ***000000**|                 null|                                  0|           7|\n",
            "|        411|                     2|         CRISTINA HUNDERTMARK|         ***637848**|                   28|               1994-07-25|null|        ***000000**|                 null|                                  0|           7|\n",
            "|       5813|                     2|         CELSO EDUARDO DE ...|         ***786068**|                   49|               1994-05-16|null|        ***000000**|                 null|                                  0|           8|\n",
            "|       5813|                     2|         EDUARDO BERRINGER...|         ***442348**|                   49|               1994-05-16|null|        ***000000**|                 null|                                  0|           5|\n",
            "|      14798|                     2|          HANNE MAHFOUD FADEL|         ***760388**|                   49|               1994-06-09|null|        ***000000**|                 null|                                  0|           8|\n",
            "+-----------+----------------------+-----------------------------+--------------------+---------------------+-------------------------+----+-------------------+---------------------+-----------------------------------+------------+\n",
            "\n"
          ]
        }
      ]
    },
    {
      "cell_type": "code",
      "source": [
        "#filtrar colunas com nulos\n",
        "#socios.select([c for c in socios.columns]).show()\n",
        "#socios.select([count().alias(c) for c in socios.columns]).show()\n",
        "socios.select([count(when(isnull(c), 1)).alias(c) for c in socios.columns]).show()"
      ],
      "metadata": {
        "id": "sWNTSnDrgqaf",
        "outputId": "855f5a2d-3620-498a-c6ef-170ac09fe37c",
        "colab": {
          "base_uri": "https://localhost:8080/"
        }
      },
      "execution_count": 62,
      "outputs": [
        {
          "output_type": "stream",
          "name": "stdout",
          "text": [
            "+-----------+----------------------+-----------------------------+--------------------+---------------------+-------------------------+-------+-------------------+---------------------+-----------------------------------+------------+\n",
            "|cnpj_basico|identificador_de_socio|nome_do_socio_ou_razao_social|cnpj_ou_cpf_do_socio|qualificacao_do_socio|data_de_entrada_sociedade|   pais|representante_legal|nome_do_representante|qualificacao_do_representante_legal|faixa_etaria|\n",
            "+-----------+----------------------+-----------------------------+--------------------+---------------------+-------------------------+-------+-------------------+---------------------+-----------------------------------+------------+\n",
            "|          0|                     0|                          208|                1234|                    0|                        1|2038255|                  0|              1995432|                                  0|           0|\n",
            "+-----------+----------------------+-----------------------------+--------------------+---------------------+-------------------------+-------+-------------------+---------------------+-----------------------------------+------------+\n",
            "\n"
          ]
        }
      ]
    },
    {
      "cell_type": "code",
      "source": [
        "#subirtituir colunas inteiras por zero\n",
        "socios.na.fill(0).limit(5).toPandas()\n",
        "#subirtiuir colunas string por -\n",
        "socios.na.fill('-').limit(5).toPandas()"
      ],
      "metadata": {
        "id": "TqfRNVuhkx-O",
        "outputId": "a5a01345-119d-49fd-d105-83ac6438fe2c",
        "colab": {
          "base_uri": "https://localhost:8080/",
          "height": 305
        }
      },
      "execution_count": 63,
      "outputs": [
        {
          "output_type": "execute_result",
          "data": {
            "text/plain": [
              "   cnpj_basico  identificador_de_socio    nome_do_socio_ou_razao_social  \\\n",
              "0          411                       2      LILIANA PATRICIA GUASTAVINO   \n",
              "1          411                       2             CRISTINA HUNDERTMARK   \n",
              "2         5813                       2  CELSO EDUARDO DE CASTRO STEPHAN   \n",
              "3         5813                       2        EDUARDO BERRINGER STEPHAN   \n",
              "4        14798                       2              HANNE MAHFOUD FADEL   \n",
              "\n",
              "  cnpj_ou_cpf_do_socio  qualificacao_do_socio data_de_entrada_sociedade  pais  \\\n",
              "0          ***678188**                     22                1994-07-25   NaN   \n",
              "1          ***637848**                     28                1994-07-25   NaN   \n",
              "2          ***786068**                     49                1994-05-16   NaN   \n",
              "3          ***442348**                     49                1994-05-16   NaN   \n",
              "4          ***760388**                     49                1994-06-09   NaN   \n",
              "\n",
              "  representante_legal nome_do_representante  \\\n",
              "0         ***000000**                     -   \n",
              "1         ***000000**                     -   \n",
              "2         ***000000**                     -   \n",
              "3         ***000000**                     -   \n",
              "4         ***000000**                     -   \n",
              "\n",
              "   qualificacao_do_representante_legal  faixa_etaria  \n",
              "0                                    0             7  \n",
              "1                                    0             7  \n",
              "2                                    0             8  \n",
              "3                                    0             5  \n",
              "4                                    0             8  "
            ],
            "text/html": [
              "\n",
              "  <div id=\"df-6e57c8d2-82e6-4336-b4dc-e341974a4efd\">\n",
              "    <div class=\"colab-df-container\">\n",
              "      <div>\n",
              "<style scoped>\n",
              "    .dataframe tbody tr th:only-of-type {\n",
              "        vertical-align: middle;\n",
              "    }\n",
              "\n",
              "    .dataframe tbody tr th {\n",
              "        vertical-align: top;\n",
              "    }\n",
              "\n",
              "    .dataframe thead th {\n",
              "        text-align: right;\n",
              "    }\n",
              "</style>\n",
              "<table border=\"1\" class=\"dataframe\">\n",
              "  <thead>\n",
              "    <tr style=\"text-align: right;\">\n",
              "      <th></th>\n",
              "      <th>cnpj_basico</th>\n",
              "      <th>identificador_de_socio</th>\n",
              "      <th>nome_do_socio_ou_razao_social</th>\n",
              "      <th>cnpj_ou_cpf_do_socio</th>\n",
              "      <th>qualificacao_do_socio</th>\n",
              "      <th>data_de_entrada_sociedade</th>\n",
              "      <th>pais</th>\n",
              "      <th>representante_legal</th>\n",
              "      <th>nome_do_representante</th>\n",
              "      <th>qualificacao_do_representante_legal</th>\n",
              "      <th>faixa_etaria</th>\n",
              "    </tr>\n",
              "  </thead>\n",
              "  <tbody>\n",
              "    <tr>\n",
              "      <th>0</th>\n",
              "      <td>411</td>\n",
              "      <td>2</td>\n",
              "      <td>LILIANA PATRICIA GUASTAVINO</td>\n",
              "      <td>***678188**</td>\n",
              "      <td>22</td>\n",
              "      <td>1994-07-25</td>\n",
              "      <td>NaN</td>\n",
              "      <td>***000000**</td>\n",
              "      <td>-</td>\n",
              "      <td>0</td>\n",
              "      <td>7</td>\n",
              "    </tr>\n",
              "    <tr>\n",
              "      <th>1</th>\n",
              "      <td>411</td>\n",
              "      <td>2</td>\n",
              "      <td>CRISTINA HUNDERTMARK</td>\n",
              "      <td>***637848**</td>\n",
              "      <td>28</td>\n",
              "      <td>1994-07-25</td>\n",
              "      <td>NaN</td>\n",
              "      <td>***000000**</td>\n",
              "      <td>-</td>\n",
              "      <td>0</td>\n",
              "      <td>7</td>\n",
              "    </tr>\n",
              "    <tr>\n",
              "      <th>2</th>\n",
              "      <td>5813</td>\n",
              "      <td>2</td>\n",
              "      <td>CELSO EDUARDO DE CASTRO STEPHAN</td>\n",
              "      <td>***786068**</td>\n",
              "      <td>49</td>\n",
              "      <td>1994-05-16</td>\n",
              "      <td>NaN</td>\n",
              "      <td>***000000**</td>\n",
              "      <td>-</td>\n",
              "      <td>0</td>\n",
              "      <td>8</td>\n",
              "    </tr>\n",
              "    <tr>\n",
              "      <th>3</th>\n",
              "      <td>5813</td>\n",
              "      <td>2</td>\n",
              "      <td>EDUARDO BERRINGER STEPHAN</td>\n",
              "      <td>***442348**</td>\n",
              "      <td>49</td>\n",
              "      <td>1994-05-16</td>\n",
              "      <td>NaN</td>\n",
              "      <td>***000000**</td>\n",
              "      <td>-</td>\n",
              "      <td>0</td>\n",
              "      <td>5</td>\n",
              "    </tr>\n",
              "    <tr>\n",
              "      <th>4</th>\n",
              "      <td>14798</td>\n",
              "      <td>2</td>\n",
              "      <td>HANNE MAHFOUD FADEL</td>\n",
              "      <td>***760388**</td>\n",
              "      <td>49</td>\n",
              "      <td>1994-06-09</td>\n",
              "      <td>NaN</td>\n",
              "      <td>***000000**</td>\n",
              "      <td>-</td>\n",
              "      <td>0</td>\n",
              "      <td>8</td>\n",
              "    </tr>\n",
              "  </tbody>\n",
              "</table>\n",
              "</div>\n",
              "      <button class=\"colab-df-convert\" onclick=\"convertToInteractive('df-6e57c8d2-82e6-4336-b4dc-e341974a4efd')\"\n",
              "              title=\"Convert this dataframe to an interactive table.\"\n",
              "              style=\"display:none;\">\n",
              "        \n",
              "  <svg xmlns=\"http://www.w3.org/2000/svg\" height=\"24px\"viewBox=\"0 0 24 24\"\n",
              "       width=\"24px\">\n",
              "    <path d=\"M0 0h24v24H0V0z\" fill=\"none\"/>\n",
              "    <path d=\"M18.56 5.44l.94 2.06.94-2.06 2.06-.94-2.06-.94-.94-2.06-.94 2.06-2.06.94zm-11 1L8.5 8.5l.94-2.06 2.06-.94-2.06-.94L8.5 2.5l-.94 2.06-2.06.94zm10 10l.94 2.06.94-2.06 2.06-.94-2.06-.94-.94-2.06-.94 2.06-2.06.94z\"/><path d=\"M17.41 7.96l-1.37-1.37c-.4-.4-.92-.59-1.43-.59-.52 0-1.04.2-1.43.59L10.3 9.45l-7.72 7.72c-.78.78-.78 2.05 0 2.83L4 21.41c.39.39.9.59 1.41.59.51 0 1.02-.2 1.41-.59l7.78-7.78 2.81-2.81c.8-.78.8-2.07 0-2.86zM5.41 20L4 18.59l7.72-7.72 1.47 1.35L5.41 20z\"/>\n",
              "  </svg>\n",
              "      </button>\n",
              "      \n",
              "  <style>\n",
              "    .colab-df-container {\n",
              "      display:flex;\n",
              "      flex-wrap:wrap;\n",
              "      gap: 12px;\n",
              "    }\n",
              "\n",
              "    .colab-df-convert {\n",
              "      background-color: #E8F0FE;\n",
              "      border: none;\n",
              "      border-radius: 50%;\n",
              "      cursor: pointer;\n",
              "      display: none;\n",
              "      fill: #1967D2;\n",
              "      height: 32px;\n",
              "      padding: 0 0 0 0;\n",
              "      width: 32px;\n",
              "    }\n",
              "\n",
              "    .colab-df-convert:hover {\n",
              "      background-color: #E2EBFA;\n",
              "      box-shadow: 0px 1px 2px rgba(60, 64, 67, 0.3), 0px 1px 3px 1px rgba(60, 64, 67, 0.15);\n",
              "      fill: #174EA6;\n",
              "    }\n",
              "\n",
              "    [theme=dark] .colab-df-convert {\n",
              "      background-color: #3B4455;\n",
              "      fill: #D2E3FC;\n",
              "    }\n",
              "\n",
              "    [theme=dark] .colab-df-convert:hover {\n",
              "      background-color: #434B5C;\n",
              "      box-shadow: 0px 1px 3px 1px rgba(0, 0, 0, 0.15);\n",
              "      filter: drop-shadow(0px 1px 2px rgba(0, 0, 0, 0.3));\n",
              "      fill: #FFFFFF;\n",
              "    }\n",
              "  </style>\n",
              "\n",
              "      <script>\n",
              "        const buttonEl =\n",
              "          document.querySelector('#df-6e57c8d2-82e6-4336-b4dc-e341974a4efd button.colab-df-convert');\n",
              "        buttonEl.style.display =\n",
              "          google.colab.kernel.accessAllowed ? 'block' : 'none';\n",
              "\n",
              "        async function convertToInteractive(key) {\n",
              "          const element = document.querySelector('#df-6e57c8d2-82e6-4336-b4dc-e341974a4efd');\n",
              "          const dataTable =\n",
              "            await google.colab.kernel.invokeFunction('convertToInteractive',\n",
              "                                                     [key], {});\n",
              "          if (!dataTable) return;\n",
              "\n",
              "          const docLinkHtml = 'Like what you see? Visit the ' +\n",
              "            '<a target=\"_blank\" href=https://colab.research.google.com/notebooks/data_table.ipynb>data table notebook</a>'\n",
              "            + ' to learn more about interactive tables.';\n",
              "          element.innerHTML = '';\n",
              "          dataTable['output_type'] = 'display_data';\n",
              "          await google.colab.output.renderOutput(dataTable, element);\n",
              "          const docLink = document.createElement('div');\n",
              "          docLink.innerHTML = docLinkHtml;\n",
              "          element.appendChild(docLink);\n",
              "        }\n",
              "      </script>\n",
              "    </div>\n",
              "  </div>\n",
              "  "
            ]
          },
          "metadata": {},
          "execution_count": 63
        }
      ]
    },
    {
      "cell_type": "code",
      "source": [
        "empresas = empresas.na.fill(0)\n",
        "\n",
        "empresas.select('porte_da_empresa').distinct().show()"
      ],
      "metadata": {
        "id": "BrwCdsEf-j9T",
        "outputId": "f1deaca6-6d70-4347-929d-ad30db887d45",
        "colab": {
          "base_uri": "https://localhost:8080/"
        }
      },
      "execution_count": 40,
      "outputs": [
        {
          "output_type": "stream",
          "name": "stdout",
          "text": [
            "+----------------+\n",
            "|porte_da_empresa|\n",
            "+----------------+\n",
            "|               1|\n",
            "|               3|\n",
            "|               5|\n",
            "|               0|\n",
            "+----------------+\n",
            "\n"
          ]
        }
      ]
    },
    {
      "cell_type": "markdown",
      "source": [
        "# Ordenação"
      ],
      "metadata": {
        "id": "YYILqCi8-SPd"
      }
    },
    {
      "cell_type": "code",
      "source": [
        "#ordenação\n",
        "socios\\\n",
        "  .select('nome_do_socio_ou_razao_social','faixa_etaria', year('data_de_entrada_sociedade').alias(\"ano_entrada\"))\\\n",
        "  .orderBy('ano_entrada', ascending=False)\\\n",
        "  .show(5)"
      ],
      "metadata": {
        "id": "0fSRq32kmd9n",
        "outputId": "a75ae284-1ee6-472a-cf6f-5d460170f605",
        "colab": {
          "base_uri": "https://localhost:8080/"
        }
      },
      "execution_count": 64,
      "outputs": [
        {
          "output_type": "stream",
          "name": "stdout",
          "text": [
            "+-----------------------------+------------+-----------+\n",
            "|nome_do_socio_ou_razao_social|faixa_etaria|ano_entrada|\n",
            "+-----------------------------+------------+-----------+\n",
            "|         KASSIANO RODRIGO ...|           4|       2021|\n",
            "|         LEONARDO MENNA BA...|           5|       2021|\n",
            "|         MANOEL ADRIANO CO...|           6|       2021|\n",
            "|         ANTONOALDO GRANGE...|           5|       2021|\n",
            "|         MARIA SUELY DE MOURA|           5|       2021|\n",
            "+-----------------------------+------------+-----------+\n",
            "only showing top 5 rows\n",
            "\n"
          ]
        }
      ]
    },
    {
      "cell_type": "code",
      "source": [
        "#ordenação duas colunas\n",
        "socios\\\n",
        "  .select('nome_do_socio_ou_razao_social','faixa_etaria', year('data_de_entrada_sociedade').alias(\"ano_entrada\"))\\\n",
        "  .orderBy(['ano_entrada', 'faixa_etaria'], ascending=[False, False])\\\n",
        "  .show(5)"
      ],
      "metadata": {
        "id": "NMbXOgcDnwf3",
        "outputId": "5cedf529-2a27-4b3f-f7a8-3270ac37764a",
        "colab": {
          "base_uri": "https://localhost:8080/"
        }
      },
      "execution_count": 65,
      "outputs": [
        {
          "output_type": "stream",
          "name": "stdout",
          "text": [
            "+-----------------------------+------------+-----------+\n",
            "|nome_do_socio_ou_razao_social|faixa_etaria|ano_entrada|\n",
            "+-----------------------------+------------+-----------+\n",
            "|         MARIA RAIMUNDA DO...|           9|       2021|\n",
            "|         MARIA JOSE DOMING...|           9|       2021|\n",
            "|         DORIS PEREIRA GOM...|           9|       2021|\n",
            "|         NADIR BICHARA CHUAHY|           9|       2021|\n",
            "|         RAIMUNDA TORRES M...|           9|       2021|\n",
            "+-----------------------------+------------+-----------+\n",
            "only showing top 5 rows\n",
            "\n"
          ]
        }
      ]
    },
    {
      "cell_type": "markdown",
      "source": [
        "#Filtros \n",
        "o comando where é um alias para o comando filter logo sao iguais"
      ],
      "metadata": {
        "id": "Bx5yyYXnp5gd"
      }
    },
    {
      "cell_type": "code",
      "source": [
        "# um = ou dois == tanto faz, nao precisa do select\n",
        "empresas\\\n",
        "  .filter(\"capital_social_da_empresa == 50\")\\\n",
        "  .show(5, False)"
      ],
      "metadata": {
        "id": "Vp-hkFBCpiAy",
        "outputId": "e68eb01b-4a4f-4993-f8b4-600ad27bf6c4",
        "colab": {
          "base_uri": "https://localhost:8080/"
        }
      },
      "execution_count": 27,
      "outputs": [
        {
          "output_type": "stream",
          "name": "stdout",
          "text": [
            "+-----------+------------------------------------+-----------------+---------------------------+-------------------------+----------------+---------------------------+\n",
            "|cnpj_basico|razao_social_nome_empresarial       |natureza_juridica|qualificacao_do_responsavel|capital_social_da_empresa|porte_da_empresa|ente_federativo_responsavel|\n",
            "+-----------+------------------------------------+-----------------+---------------------------+-------------------------+----------------+---------------------------+\n",
            "|17350147   |ERIK MARCELO DOS SANTOS 42107848858 |2135             |50                         |50.0                     |1               |null                       |\n",
            "|17833214   |ALEXANDRE MACHADO LIMA 73750123772  |2135             |50                         |50.0                     |1               |null                       |\n",
            "|20860830   |YASMIN MOURA DA FONSECA 13457709793 |2135             |50                         |50.0                     |1               |null                       |\n",
            "|22242856   |JOAO CESAR MESSIAS 08707149883      |2135             |50                         |50.0                     |1               |null                       |\n",
            "|23238540   |EVERTON ROBERTO DA SILVA 42101963809|2135             |50                         |50.0                     |1               |null                       |\n",
            "+-----------+------------------------------------+-----------------+---------------------------+-------------------------+----------------+---------------------------+\n",
            "only showing top 5 rows\n",
            "\n"
          ]
        }
      ]
    },
    {
      "cell_type": "code",
      "source": [
        "# varios filtros\n",
        "socios\\\n",
        "  .select(\"nome_do_socio_ou_razao_social\")\\\n",
        "  .filter(socios.nome_do_socio_ou_razao_social.startswith(\"JOAO\"))\\\n",
        "  .filter(socios.nome_do_socio_ou_razao_social.endswith(\"SILVA\"))\\\n",
        "  .limit(10).toPandas()"
      ],
      "metadata": {
        "id": "iWKkOHjzqvc5",
        "outputId": "ee9a4770-74ae-462d-e3f2-d12925cfd7be",
        "colab": {
          "base_uri": "https://localhost:8080/",
          "height": 363
        }
      },
      "execution_count": 28,
      "outputs": [
        {
          "output_type": "execute_result",
          "data": {
            "text/plain": [
              "         nome_do_socio_ou_razao_social\n",
              "0                  JOAO AMARO DA SILVA\n",
              "1                  JOAO PINTO DA SILVA\n",
              "2                JOAO BATISTA DA SILVA\n",
              "3                  JOAO OLAVO DA SILVA\n",
              "4                  JOAO MARIA DA SILVA\n",
              "5  JOAO MATEUS AMARAL AVELINO DA SILVA\n",
              "6          JOAO RITA FERREIRA DA SILVA\n",
              "7                  JOAO ROQUE DA SILVA\n",
              "8                   JOAO DIAS DA SILVA\n",
              "9                JOAO BATISTA DA SILVA"
            ],
            "text/html": [
              "\n",
              "  <div id=\"df-c66b49c0-36bf-4764-94f1-ff5329a875cc\">\n",
              "    <div class=\"colab-df-container\">\n",
              "      <div>\n",
              "<style scoped>\n",
              "    .dataframe tbody tr th:only-of-type {\n",
              "        vertical-align: middle;\n",
              "    }\n",
              "\n",
              "    .dataframe tbody tr th {\n",
              "        vertical-align: top;\n",
              "    }\n",
              "\n",
              "    .dataframe thead th {\n",
              "        text-align: right;\n",
              "    }\n",
              "</style>\n",
              "<table border=\"1\" class=\"dataframe\">\n",
              "  <thead>\n",
              "    <tr style=\"text-align: right;\">\n",
              "      <th></th>\n",
              "      <th>nome_do_socio_ou_razao_social</th>\n",
              "    </tr>\n",
              "  </thead>\n",
              "  <tbody>\n",
              "    <tr>\n",
              "      <th>0</th>\n",
              "      <td>JOAO AMARO DA SILVA</td>\n",
              "    </tr>\n",
              "    <tr>\n",
              "      <th>1</th>\n",
              "      <td>JOAO PINTO DA SILVA</td>\n",
              "    </tr>\n",
              "    <tr>\n",
              "      <th>2</th>\n",
              "      <td>JOAO BATISTA DA SILVA</td>\n",
              "    </tr>\n",
              "    <tr>\n",
              "      <th>3</th>\n",
              "      <td>JOAO OLAVO DA SILVA</td>\n",
              "    </tr>\n",
              "    <tr>\n",
              "      <th>4</th>\n",
              "      <td>JOAO MARIA DA SILVA</td>\n",
              "    </tr>\n",
              "    <tr>\n",
              "      <th>5</th>\n",
              "      <td>JOAO MATEUS AMARAL AVELINO DA SILVA</td>\n",
              "    </tr>\n",
              "    <tr>\n",
              "      <th>6</th>\n",
              "      <td>JOAO RITA FERREIRA DA SILVA</td>\n",
              "    </tr>\n",
              "    <tr>\n",
              "      <th>7</th>\n",
              "      <td>JOAO ROQUE DA SILVA</td>\n",
              "    </tr>\n",
              "    <tr>\n",
              "      <th>8</th>\n",
              "      <td>JOAO DIAS DA SILVA</td>\n",
              "    </tr>\n",
              "    <tr>\n",
              "      <th>9</th>\n",
              "      <td>JOAO BATISTA DA SILVA</td>\n",
              "    </tr>\n",
              "  </tbody>\n",
              "</table>\n",
              "</div>\n",
              "      <button class=\"colab-df-convert\" onclick=\"convertToInteractive('df-c66b49c0-36bf-4764-94f1-ff5329a875cc')\"\n",
              "              title=\"Convert this dataframe to an interactive table.\"\n",
              "              style=\"display:none;\">\n",
              "        \n",
              "  <svg xmlns=\"http://www.w3.org/2000/svg\" height=\"24px\"viewBox=\"0 0 24 24\"\n",
              "       width=\"24px\">\n",
              "    <path d=\"M0 0h24v24H0V0z\" fill=\"none\"/>\n",
              "    <path d=\"M18.56 5.44l.94 2.06.94-2.06 2.06-.94-2.06-.94-.94-2.06-.94 2.06-2.06.94zm-11 1L8.5 8.5l.94-2.06 2.06-.94-2.06-.94L8.5 2.5l-.94 2.06-2.06.94zm10 10l.94 2.06.94-2.06 2.06-.94-2.06-.94-.94-2.06-.94 2.06-2.06.94z\"/><path d=\"M17.41 7.96l-1.37-1.37c-.4-.4-.92-.59-1.43-.59-.52 0-1.04.2-1.43.59L10.3 9.45l-7.72 7.72c-.78.78-.78 2.05 0 2.83L4 21.41c.39.39.9.59 1.41.59.51 0 1.02-.2 1.41-.59l7.78-7.78 2.81-2.81c.8-.78.8-2.07 0-2.86zM5.41 20L4 18.59l7.72-7.72 1.47 1.35L5.41 20z\"/>\n",
              "  </svg>\n",
              "      </button>\n",
              "      \n",
              "  <style>\n",
              "    .colab-df-container {\n",
              "      display:flex;\n",
              "      flex-wrap:wrap;\n",
              "      gap: 12px;\n",
              "    }\n",
              "\n",
              "    .colab-df-convert {\n",
              "      background-color: #E8F0FE;\n",
              "      border: none;\n",
              "      border-radius: 50%;\n",
              "      cursor: pointer;\n",
              "      display: none;\n",
              "      fill: #1967D2;\n",
              "      height: 32px;\n",
              "      padding: 0 0 0 0;\n",
              "      width: 32px;\n",
              "    }\n",
              "\n",
              "    .colab-df-convert:hover {\n",
              "      background-color: #E2EBFA;\n",
              "      box-shadow: 0px 1px 2px rgba(60, 64, 67, 0.3), 0px 1px 3px 1px rgba(60, 64, 67, 0.15);\n",
              "      fill: #174EA6;\n",
              "    }\n",
              "\n",
              "    [theme=dark] .colab-df-convert {\n",
              "      background-color: #3B4455;\n",
              "      fill: #D2E3FC;\n",
              "    }\n",
              "\n",
              "    [theme=dark] .colab-df-convert:hover {\n",
              "      background-color: #434B5C;\n",
              "      box-shadow: 0px 1px 3px 1px rgba(0, 0, 0, 0.15);\n",
              "      filter: drop-shadow(0px 1px 2px rgba(0, 0, 0, 0.3));\n",
              "      fill: #FFFFFF;\n",
              "    }\n",
              "  </style>\n",
              "\n",
              "      <script>\n",
              "        const buttonEl =\n",
              "          document.querySelector('#df-c66b49c0-36bf-4764-94f1-ff5329a875cc button.colab-df-convert');\n",
              "        buttonEl.style.display =\n",
              "          google.colab.kernel.accessAllowed ? 'block' : 'none';\n",
              "\n",
              "        async function convertToInteractive(key) {\n",
              "          const element = document.querySelector('#df-c66b49c0-36bf-4764-94f1-ff5329a875cc');\n",
              "          const dataTable =\n",
              "            await google.colab.kernel.invokeFunction('convertToInteractive',\n",
              "                                                     [key], {});\n",
              "          if (!dataTable) return;\n",
              "\n",
              "          const docLinkHtml = 'Like what you see? Visit the ' +\n",
              "            '<a target=\"_blank\" href=https://colab.research.google.com/notebooks/data_table.ipynb>data table notebook</a>'\n",
              "            + ' to learn more about interactive tables.';\n",
              "          element.innerHTML = '';\n",
              "          dataTable['output_type'] = 'display_data';\n",
              "          await google.colab.output.renderOutput(dataTable, element);\n",
              "          const docLink = document.createElement('div');\n",
              "          docLink.innerHTML = docLinkHtml;\n",
              "          element.appendChild(docLink);\n",
              "        }\n",
              "      </script>\n",
              "    </div>\n",
              "  </div>\n",
              "  "
            ]
          },
          "metadata": {},
          "execution_count": 28
        }
      ]
    },
    {
      "cell_type": "code",
      "source": [
        "#formar de usar duas condiçoes\n",
        "\n",
        "df\\\n",
        "    .filter(\"mes<=6\")\\\n",
        "    .filter(\"ano=2009\")\\\n",
        "    .show(truncate=False)\n",
        "\n",
        "#usando AND\n",
        "df\\\n",
        "    .filter(\"mes<=6 and ano==2009\")\\\n",
        "    .show(truncate=False)\n",
        "\n",
        "#usando &\n",
        "df\\\n",
        "    .filter((df.mes <= 6) & (df.ano == 2009))\\\n",
        "    .show(truncate=False)"
      ],
      "metadata": {
        "id": "O3773fdsriGH"
      },
      "execution_count": null,
      "outputs": []
    },
    {
      "cell_type": "code",
      "source": [
        "# LIKE\n",
        "empresas\\\n",
        "  .select(\"razao_social_nome_empresarial\", \"natureza_juridica\", \"porte_da_empresa\")\\\n",
        "  .filter(upper(empresas.razao_social_nome_empresarial).like(\"%RESTAURANTE%\"))\\\n",
        "  .limit(10).toPandas()"
      ],
      "metadata": {
        "id": "QqxV79cWsnCa",
        "outputId": "252f8338-1e72-48f8-f57c-b2ca4d77168f",
        "colab": {
          "base_uri": "https://localhost:8080/",
          "height": 363
        }
      },
      "execution_count": 36,
      "outputs": [
        {
          "output_type": "execute_result",
          "data": {
            "text/plain": [
              "                       razao_social_nome_empresarial  natureza_juridica  \\\n",
              "0              RESTAURANTE IMIGRANTE PORTUGUES LTDA.               2062   \n",
              "1      MORAIS & CARVALHO RESTAURANTE E PIZZARIA LTDA               2062   \n",
              "2                   BAR E RESTAURANTE PAGANOTTO LTDA               2062   \n",
              "3             RODRIGUES & RODRIGUES RESTAURANTE LTDA               2062   \n",
              "4  TEXAS RANCH BAR RESTAURANTE PRODUCOES ARTISTIC...               2062   \n",
              "5  V V SANTOS RESTAURANTE BAR E ATIV DESPORTIVAS ...               2062   \n",
              "6              BAR E RESTAURANTE CASA DA QUINTA LTDA               2062   \n",
              "7                          DON MUGO RESTAURANTE LTDA               2062   \n",
              "8           MARIA ROZA DOS SANTOS- BAR E RESTAURANTE               2135   \n",
              "9           GERACAO DE OURO - BAR E RESTAURANTE LTDA               2062   \n",
              "\n",
              "   porte_da_empresa  \n",
              "0                 5  \n",
              "1                 1  \n",
              "2                 5  \n",
              "3                 5  \n",
              "4                 1  \n",
              "5                 1  \n",
              "6                 1  \n",
              "7                 1  \n",
              "8                 5  \n",
              "9                 5  "
            ],
            "text/html": [
              "\n",
              "  <div id=\"df-e9ae1fce-9f6c-4c17-bd4e-ffadff800437\">\n",
              "    <div class=\"colab-df-container\">\n",
              "      <div>\n",
              "<style scoped>\n",
              "    .dataframe tbody tr th:only-of-type {\n",
              "        vertical-align: middle;\n",
              "    }\n",
              "\n",
              "    .dataframe tbody tr th {\n",
              "        vertical-align: top;\n",
              "    }\n",
              "\n",
              "    .dataframe thead th {\n",
              "        text-align: right;\n",
              "    }\n",
              "</style>\n",
              "<table border=\"1\" class=\"dataframe\">\n",
              "  <thead>\n",
              "    <tr style=\"text-align: right;\">\n",
              "      <th></th>\n",
              "      <th>razao_social_nome_empresarial</th>\n",
              "      <th>natureza_juridica</th>\n",
              "      <th>porte_da_empresa</th>\n",
              "    </tr>\n",
              "  </thead>\n",
              "  <tbody>\n",
              "    <tr>\n",
              "      <th>0</th>\n",
              "      <td>RESTAURANTE IMIGRANTE PORTUGUES LTDA.</td>\n",
              "      <td>2062</td>\n",
              "      <td>5</td>\n",
              "    </tr>\n",
              "    <tr>\n",
              "      <th>1</th>\n",
              "      <td>MORAIS &amp; CARVALHO RESTAURANTE E PIZZARIA LTDA</td>\n",
              "      <td>2062</td>\n",
              "      <td>1</td>\n",
              "    </tr>\n",
              "    <tr>\n",
              "      <th>2</th>\n",
              "      <td>BAR E RESTAURANTE PAGANOTTO LTDA</td>\n",
              "      <td>2062</td>\n",
              "      <td>5</td>\n",
              "    </tr>\n",
              "    <tr>\n",
              "      <th>3</th>\n",
              "      <td>RODRIGUES &amp; RODRIGUES RESTAURANTE LTDA</td>\n",
              "      <td>2062</td>\n",
              "      <td>5</td>\n",
              "    </tr>\n",
              "    <tr>\n",
              "      <th>4</th>\n",
              "      <td>TEXAS RANCH BAR RESTAURANTE PRODUCOES ARTISTIC...</td>\n",
              "      <td>2062</td>\n",
              "      <td>1</td>\n",
              "    </tr>\n",
              "    <tr>\n",
              "      <th>5</th>\n",
              "      <td>V V SANTOS RESTAURANTE BAR E ATIV DESPORTIVAS ...</td>\n",
              "      <td>2062</td>\n",
              "      <td>1</td>\n",
              "    </tr>\n",
              "    <tr>\n",
              "      <th>6</th>\n",
              "      <td>BAR E RESTAURANTE CASA DA QUINTA LTDA</td>\n",
              "      <td>2062</td>\n",
              "      <td>1</td>\n",
              "    </tr>\n",
              "    <tr>\n",
              "      <th>7</th>\n",
              "      <td>DON MUGO RESTAURANTE LTDA</td>\n",
              "      <td>2062</td>\n",
              "      <td>1</td>\n",
              "    </tr>\n",
              "    <tr>\n",
              "      <th>8</th>\n",
              "      <td>MARIA ROZA DOS SANTOS- BAR E RESTAURANTE</td>\n",
              "      <td>2135</td>\n",
              "      <td>5</td>\n",
              "    </tr>\n",
              "    <tr>\n",
              "      <th>9</th>\n",
              "      <td>GERACAO DE OURO - BAR E RESTAURANTE LTDA</td>\n",
              "      <td>2062</td>\n",
              "      <td>5</td>\n",
              "    </tr>\n",
              "  </tbody>\n",
              "</table>\n",
              "</div>\n",
              "      <button class=\"colab-df-convert\" onclick=\"convertToInteractive('df-e9ae1fce-9f6c-4c17-bd4e-ffadff800437')\"\n",
              "              title=\"Convert this dataframe to an interactive table.\"\n",
              "              style=\"display:none;\">\n",
              "        \n",
              "  <svg xmlns=\"http://www.w3.org/2000/svg\" height=\"24px\"viewBox=\"0 0 24 24\"\n",
              "       width=\"24px\">\n",
              "    <path d=\"M0 0h24v24H0V0z\" fill=\"none\"/>\n",
              "    <path d=\"M18.56 5.44l.94 2.06.94-2.06 2.06-.94-2.06-.94-.94-2.06-.94 2.06-2.06.94zm-11 1L8.5 8.5l.94-2.06 2.06-.94-2.06-.94L8.5 2.5l-.94 2.06-2.06.94zm10 10l.94 2.06.94-2.06 2.06-.94-2.06-.94-.94-2.06-.94 2.06-2.06.94z\"/><path d=\"M17.41 7.96l-1.37-1.37c-.4-.4-.92-.59-1.43-.59-.52 0-1.04.2-1.43.59L10.3 9.45l-7.72 7.72c-.78.78-.78 2.05 0 2.83L4 21.41c.39.39.9.59 1.41.59.51 0 1.02-.2 1.41-.59l7.78-7.78 2.81-2.81c.8-.78.8-2.07 0-2.86zM5.41 20L4 18.59l7.72-7.72 1.47 1.35L5.41 20z\"/>\n",
              "  </svg>\n",
              "      </button>\n",
              "      \n",
              "  <style>\n",
              "    .colab-df-container {\n",
              "      display:flex;\n",
              "      flex-wrap:wrap;\n",
              "      gap: 12px;\n",
              "    }\n",
              "\n",
              "    .colab-df-convert {\n",
              "      background-color: #E8F0FE;\n",
              "      border: none;\n",
              "      border-radius: 50%;\n",
              "      cursor: pointer;\n",
              "      display: none;\n",
              "      fill: #1967D2;\n",
              "      height: 32px;\n",
              "      padding: 0 0 0 0;\n",
              "      width: 32px;\n",
              "    }\n",
              "\n",
              "    .colab-df-convert:hover {\n",
              "      background-color: #E2EBFA;\n",
              "      box-shadow: 0px 1px 2px rgba(60, 64, 67, 0.3), 0px 1px 3px 1px rgba(60, 64, 67, 0.15);\n",
              "      fill: #174EA6;\n",
              "    }\n",
              "\n",
              "    [theme=dark] .colab-df-convert {\n",
              "      background-color: #3B4455;\n",
              "      fill: #D2E3FC;\n",
              "    }\n",
              "\n",
              "    [theme=dark] .colab-df-convert:hover {\n",
              "      background-color: #434B5C;\n",
              "      box-shadow: 0px 1px 3px 1px rgba(0, 0, 0, 0.15);\n",
              "      filter: drop-shadow(0px 1px 2px rgba(0, 0, 0, 0.3));\n",
              "      fill: #FFFFFF;\n",
              "    }\n",
              "  </style>\n",
              "\n",
              "      <script>\n",
              "        const buttonEl =\n",
              "          document.querySelector('#df-e9ae1fce-9f6c-4c17-bd4e-ffadff800437 button.colab-df-convert');\n",
              "        buttonEl.style.display =\n",
              "          google.colab.kernel.accessAllowed ? 'block' : 'none';\n",
              "\n",
              "        async function convertToInteractive(key) {\n",
              "          const element = document.querySelector('#df-e9ae1fce-9f6c-4c17-bd4e-ffadff800437');\n",
              "          const dataTable =\n",
              "            await google.colab.kernel.invokeFunction('convertToInteractive',\n",
              "                                                     [key], {});\n",
              "          if (!dataTable) return;\n",
              "\n",
              "          const docLinkHtml = 'Like what you see? Visit the ' +\n",
              "            '<a target=\"_blank\" href=https://colab.research.google.com/notebooks/data_table.ipynb>data table notebook</a>'\n",
              "            + ' to learn more about interactive tables.';\n",
              "          element.innerHTML = '';\n",
              "          dataTable['output_type'] = 'display_data';\n",
              "          await google.colab.output.renderOutput(dataTable, element);\n",
              "          const docLink = document.createElement('div');\n",
              "          docLink.innerHTML = docLinkHtml;\n",
              "          element.appendChild(docLink);\n",
              "        }\n",
              "      </script>\n",
              "    </div>\n",
              "  </div>\n",
              "  "
            ]
          },
          "metadata": {},
          "execution_count": 36
        }
      ]
    },
    {
      "cell_type": "code",
      "source": [
        "#iniciar com a letra C\n",
        "df\\\n",
        "    .filter(df.nome.like('C%'))\\\n",
        "    .show(truncate=False)"
      ],
      "metadata": {
        "id": "XHDgwOkbcDWI"
      },
      "execution_count": null,
      "outputs": []
    },
    {
      "cell_type": "markdown",
      "source": [
        "#Agrupamento, Agregação e Sumarizando os dados\n",
        "\n",
        "https://pandas.pydata.org/docs/reference/api/pandas.DataFrame.groupby.html\n",
        "\n",
        "https://pandas.pydata.org/docs/reference/api/pandas.DataFrame.agg.html\n",
        "\n",
        "https://spark.apache.org/docs/3.1.2/api/python/reference/api/pyspark.sql.DataFrame.summary.html\n"
      ],
      "metadata": {
        "id": "o4Jzy8cwb2jW"
      }
    },
    {
      "cell_type": "code",
      "source": [
        "#groupBy com count\n",
        "socios\\\n",
        "    .select(year('data_de_entrada_sociedade').alias('ano_entrada'))\\\n",
        "    .filter('ano_entrada >= 2010')\\\n",
        "    .groupBy('ano_entrada')\\\n",
        "    .count()\\\n",
        "    .orderBy('ano_entrada', ascending=True)\\\n",
        "    .show(truncate=False)"
      ],
      "metadata": {
        "id": "rpJuS-QJbIoR",
        "outputId": "2a8d2c0b-ba33-40d9-f983-97136d242834",
        "colab": {
          "base_uri": "https://localhost:8080/"
        }
      },
      "execution_count": 68,
      "outputs": [
        {
          "output_type": "stream",
          "name": "stdout",
          "text": [
            "+-----------+------+\n",
            "|ano_entrada|count |\n",
            "+-----------+------+\n",
            "|2010       |79337 |\n",
            "|2011       |83906 |\n",
            "|2012       |80101 |\n",
            "|2013       |83919 |\n",
            "|2014       |80590 |\n",
            "|2015       |80906 |\n",
            "|2016       |81587 |\n",
            "|2017       |90221 |\n",
            "|2018       |99935 |\n",
            "|2019       |118248|\n",
            "|2020       |125927|\n",
            "|2021       |56316 |\n",
            "+-----------+------+\n",
            "\n"
          ]
        }
      ]
    },
    {
      "cell_type": "code",
      "source": [
        "#agregação é para criar um grupo de media(avg ou mean) e contagens(count)\n",
        "empresas\\\n",
        "  .select('cnpj_basico', 'porte_da_empresa', 'capital_social_da_empresa')\\\n",
        "  .groupBy('porte_da_empresa')\\\n",
        "  .agg(\n",
        "      avg(\"capital_social_da_empresa\").alias('media_capital'),\n",
        "      count('cnpj_basico').alias('quantidade')\n",
        "  )\\\n",
        "  .orderBy('porte_da_empresa', ascending=True)\\\n",
        "  .show()"
      ],
      "metadata": {
        "id": "kYZPsQEKcxZD",
        "outputId": "2a42a00a-844f-499b-cd28-b270ffab69b1",
        "colab": {
          "base_uri": "https://localhost:8080/"
        }
      },
      "execution_count": 69,
      "outputs": [
        {
          "output_type": "stream",
          "name": "stdout",
          "text": [
            "+----------------+------------------+----------+\n",
            "|porte_da_empresa|     media_capital|quantidade|\n",
            "+----------------+------------------+----------+\n",
            "|            null|  8.35421888053467|      5985|\n",
            "|               1|339994.53313506936|   3129043|\n",
            "|               3|2601001.7677092673|    115151|\n",
            "|               5| 708660.4208249798|   1335500|\n",
            "+----------------+------------------+----------+\n",
            "\n"
          ]
        }
      ]
    },
    {
      "cell_type": "code",
      "source": [
        "# descrição dos dados describe(summary)\n",
        "empresas\\\n",
        "  .select(\"capital_social_da_empresa\")\\\n",
        "  .summary()\\\n",
        "  .show()\n",
        "\n",
        "#filtar apenas por essas .summary(\"count\",\"mean\",\"stddev\",\"min\",\"25%\",\"50%\",\"75%\",\"max\")"
      ],
      "metadata": {
        "id": "lnA11Mo1hoKO",
        "outputId": "462fcba3-7042-40f3-91e8-97eafe81ca04",
        "colab": {
          "base_uri": "https://localhost:8080/"
        }
      },
      "execution_count": 70,
      "outputs": [
        {
          "output_type": "stream",
          "name": "stdout",
          "text": [
            "+-------+-------------------------+\n",
            "|summary|capital_social_da_empresa|\n",
            "+-------+-------------------------+\n",
            "|  count|                  4585679|\n",
            "|   mean|        503694.5478542675|\n",
            "| stddev|     2.1118691490537405E8|\n",
            "|    min|                      0.0|\n",
            "|    25%|                      0.0|\n",
            "|    50%|                   1000.0|\n",
            "|    75%|                   7000.0|\n",
            "|    max|         3.22014670262E11|\n",
            "+-------+-------------------------+\n",
            "\n"
          ]
        }
      ]
    },
    {
      "cell_type": "markdown",
      "source": [
        "#Função case(when)\n",
        "\n",
        "https://spark.apache.org/docs/latest/api/python/reference/pyspark.sql/api/pyspark.sql.functions.when.html"
      ],
      "metadata": {
        "id": "IDjAuorEi4RM"
      }
    },
    {
      "cell_type": "code",
      "source": [
        "data = [ \n",
        "    ('LEILA', 'MATEMÁTICA', 5), \n",
        "    ('BRENO', 'MATEMÁTICA', 7), \n",
        "    ('LETÍCIA', 'MATEMÁTICA', 2), \n",
        "    ('CARLOS', 'FÍSICA', 2), \n",
        "    ('IVO', 'FÍSICA', 8), \n",
        "    ('MÁRCIA', 'FÍSICA', 10)\n",
        "]\n",
        "colNames = ['nome', 'materia', 'nota']\n",
        "df = spark.createDataFrame(data, colNames)\n",
        "df.show()"
      ],
      "metadata": {
        "id": "78LcKFT2iX3H",
        "outputId": "1f926233-a3de-4815-e71a-c04eaacfe9ba",
        "colab": {
          "base_uri": "https://localhost:8080/"
        }
      },
      "execution_count": 76,
      "outputs": [
        {
          "output_type": "stream",
          "name": "stdout",
          "text": [
            "+-------+----------+----+\n",
            "|   nome|   materia|nota|\n",
            "+-------+----------+----+\n",
            "|  LEILA|MATEMÁTICA|   5|\n",
            "|  BRENO|MATEMÁTICA|   7|\n",
            "|LETÍCIA|MATEMÁTICA|   2|\n",
            "| CARLOS|    FÍSICA|   2|\n",
            "|    IVO|    FÍSICA|   8|\n",
            "| MÁRCIA|    FÍSICA|  10|\n",
            "+-------+----------+----+\n",
            "\n"
          ]
        }
      ]
    },
    {
      "cell_type": "code",
      "source": [
        "#otherwise é como else caso nao encontrado\n",
        "df = df.withColumn('status', \n",
        "    when(\n",
        "        df.nota >= 7, \"APROVADO\")\\\n",
        "        .otherwise(\"REPROVADO\")\n",
        "    )\n",
        "df.show()"
      ],
      "metadata": {
        "id": "l2TcpWjyjBNk",
        "outputId": "1962e9e0-b9c0-4c9c-8d37-013fea5c8c2f",
        "colab": {
          "base_uri": "https://localhost:8080/"
        }
      },
      "execution_count": 77,
      "outputs": [
        {
          "output_type": "stream",
          "name": "stdout",
          "text": [
            "+-------+----------+----+---------+\n",
            "|   nome|   materia|nota|   status|\n",
            "+-------+----------+----+---------+\n",
            "|  LEILA|MATEMÁTICA|   5|REPROVADO|\n",
            "|  BRENO|MATEMÁTICA|   7| APROVADO|\n",
            "|LETÍCIA|MATEMÁTICA|   2|REPROVADO|\n",
            "| CARLOS|    FÍSICA|   2|REPROVADO|\n",
            "|    IVO|    FÍSICA|   8| APROVADO|\n",
            "| MÁRCIA|    FÍSICA|  10| APROVADO|\n",
            "+-------+----------+----+---------+\n",
            "\n"
          ]
        }
      ]
    },
    {
      "cell_type": "code",
      "source": [
        "df\\\n",
        "    .select('nota')\\\n",
        "    .summary('min', '25%', '50%', '75%', 'max')\\\n",
        "    .show()"
      ],
      "metadata": {
        "id": "7PnfgGQrjJV2",
        "outputId": "b304f0a7-c046-42fc-a5bb-54e57a403a8d",
        "colab": {
          "base_uri": "https://localhost:8080/"
        }
      },
      "execution_count": 78,
      "outputs": [
        {
          "output_type": "stream",
          "name": "stdout",
          "text": [
            "+-------+----+\n",
            "|summary|nota|\n",
            "+-------+----+\n",
            "|    min|   2|\n",
            "|    25%|   2|\n",
            "|    50%|   5|\n",
            "|    75%|   8|\n",
            "|    max|  10|\n",
            "+-------+----+\n",
            "\n"
          ]
        }
      ]
    },
    {
      "cell_type": "code",
      "source": [
        "df\\\n",
        "    .groupBy('status')\\\n",
        "    .count()\\\n",
        "    .orderBy('status', ascending=True)\\\n",
        "    .show()"
      ],
      "metadata": {
        "id": "Po7NbuqSjyPe",
        "outputId": "2e346acf-396b-4f8d-b28c-196967c05825",
        "colab": {
          "base_uri": "https://localhost:8080/"
        }
      },
      "execution_count": 79,
      "outputs": [
        {
          "output_type": "stream",
          "name": "stdout",
          "text": [
            "+---------+-----+\n",
            "|   status|count|\n",
            "+---------+-----+\n",
            "| APROVADO|    3|\n",
            "|REPROVADO|    3|\n",
            "+---------+-----+\n",
            "\n"
          ]
        }
      ]
    },
    {
      "cell_type": "markdown",
      "source": [
        "#Junções X Unir\n",
        "\n",
        "![image.png](data:image/png;base64,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)"
      ],
      "metadata": {
        "id": "XFXZnuZYj758"
      }
    },
    {
      "cell_type": "code",
      "source": [
        "#join exemplo\n",
        "produtos = spark.createDataFrame(\n",
        "    [\n",
        "        ('1', 'Bebidas', 'Água mineral'), \n",
        "        ('2', 'Limpeza', 'Sabão em pó')\n",
        "    ],\n",
        "    ['id', 'cat', 'prod']\n",
        ")\n",
        "\n",
        "produtos2 = spark.createDataFrame([ ('3', 'Frios', 'Queijo') ], ['id', 'cat', 'prod'])\n",
        "\n",
        "impostos = spark.createDataFrame(\n",
        "    [\n",
        "        ('Bebidas', 0.15), \n",
        "        ('Banana', 0.05)\n",
        "    ],\n",
        "    ['cat', 'tax']\n",
        ")\n",
        "\n",
        "#unir produto com produto2\n",
        "produtos.union(produtos2).show()\n",
        "\n",
        "produtos.join(impostos, 'cat', how='inner').show()\n",
        "produtos.join(impostos, 'cat', how='left').show()\n",
        "produtos.join(impostos, 'cat', how='right').show()\n",
        "produtos.join(impostos, 'cat', how='outer').show()"
      ],
      "metadata": {
        "id": "lKA2Anuvjzvi",
        "outputId": "a7242b8e-e20a-4d06-9cc7-a8d77c028372",
        "colab": {
          "base_uri": "https://localhost:8080/"
        }
      },
      "execution_count": 97,
      "outputs": [
        {
          "output_type": "stream",
          "name": "stdout",
          "text": [
            "+---+-------+------------+\n",
            "| id|    cat|        prod|\n",
            "+---+-------+------------+\n",
            "|  1|Bebidas|Água mineral|\n",
            "|  2|Limpeza| Sabão em pó|\n",
            "|  3|  Frios|      Queijo|\n",
            "+---+-------+------------+\n",
            "\n",
            "+-------+---+------------+----+\n",
            "|    cat| id|        prod| tax|\n",
            "+-------+---+------------+----+\n",
            "|Bebidas|  1|Água mineral|0.15|\n",
            "+-------+---+------------+----+\n",
            "\n",
            "+-------+---+------------+----+\n",
            "|    cat| id|        prod| tax|\n",
            "+-------+---+------------+----+\n",
            "|Bebidas|  1|Água mineral|0.15|\n",
            "|Limpeza|  2| Sabão em pó|null|\n",
            "+-------+---+------------+----+\n",
            "\n",
            "+-------+----+------------+----+\n",
            "|    cat|  id|        prod| tax|\n",
            "+-------+----+------------+----+\n",
            "|Bebidas|   1|Água mineral|0.15|\n",
            "| Banana|null|        null|0.05|\n",
            "+-------+----+------------+----+\n",
            "\n",
            "+-------+----+------------+----+\n",
            "|    cat|  id|        prod| tax|\n",
            "+-------+----+------------+----+\n",
            "| Banana|null|        null|0.05|\n",
            "|Bebidas|   1|Água mineral|0.15|\n",
            "|Limpeza|   2| Sabão em pó|null|\n",
            "+-------+----+------------+----+\n",
            "\n"
          ]
        }
      ]
    },
    {
      "cell_type": "code",
      "source": [
        "empresas_join = estabelecimentos.join(empresas, 'cnpj_basico', how='inner')\n",
        "empresas_join.printSchema()\n",
        "empresas_join"
      ],
      "metadata": {
        "id": "8_OzurPmkYpr",
        "outputId": "e443e7c7-16b5-43c5-ca22-a384572a0bb3",
        "colab": {
          "base_uri": "https://localhost:8080/"
        }
      },
      "execution_count": 90,
      "outputs": [
        {
          "output_type": "stream",
          "name": "stdout",
          "text": [
            "root\n",
            " |-- cnpj_basico: integer (nullable = true)\n",
            " |-- cnpj_ordem: integer (nullable = true)\n",
            " |-- cnpj_dv: integer (nullable = true)\n",
            " |-- identificador_matriz_filial: integer (nullable = true)\n",
            " |-- nome_fantasia: string (nullable = true)\n",
            " |-- situacao_cadastral: integer (nullable = true)\n",
            " |-- data_situacao_cadastral: date (nullable = true)\n",
            " |-- motivo_situacao_cadastral: integer (nullable = true)\n",
            " |-- nome_da_cidade_no_exterior: string (nullable = true)\n",
            " |-- pais: integer (nullable = true)\n",
            " |-- data_de_inicio_atividade: date (nullable = true)\n",
            " |-- cnae_fiscal_principal: integer (nullable = true)\n",
            " |-- cnae_fiscal_secundaria: string (nullable = true)\n",
            " |-- tipo_de_logradouro: string (nullable = true)\n",
            " |-- logradouro: string (nullable = true)\n",
            " |-- numero: string (nullable = true)\n",
            " |-- complemento: string (nullable = true)\n",
            " |-- bairro: string (nullable = true)\n",
            " |-- cep: integer (nullable = true)\n",
            " |-- uf: string (nullable = true)\n",
            " |-- municipio: integer (nullable = true)\n",
            " |-- ddd_1: string (nullable = true)\n",
            " |-- telefone_1: string (nullable = true)\n",
            " |-- ddd_2: string (nullable = true)\n",
            " |-- telefone_2: string (nullable = true)\n",
            " |-- ddd_do_fax: integer (nullable = true)\n",
            " |-- fax: string (nullable = true)\n",
            " |-- correio_eletronico: string (nullable = true)\n",
            " |-- situacao_especial: string (nullable = true)\n",
            " |-- data_da_situacao_especial: date (nullable = true)\n",
            " |-- razao_social_nome_empresarial: string (nullable = true)\n",
            " |-- natureza_juridica: integer (nullable = true)\n",
            " |-- qualificacao_do_responsavel: integer (nullable = true)\n",
            " |-- capital_social_da_empresa: double (nullable = true)\n",
            " |-- porte_da_empresa: integer (nullable = true)\n",
            " |-- ente_federativo_responsavel: string (nullable = true)\n",
            "\n"
          ]
        },
        {
          "output_type": "execute_result",
          "data": {
            "text/plain": [
              "DataFrame[cnpj_basico: int, cnpj_ordem: int, cnpj_dv: int, identificador_matriz_filial: int, nome_fantasia: string, situacao_cadastral: int, data_situacao_cadastral: date, motivo_situacao_cadastral: int, nome_da_cidade_no_exterior: string, pais: int, data_de_inicio_atividade: date, cnae_fiscal_principal: int, cnae_fiscal_secundaria: string, tipo_de_logradouro: string, logradouro: string, numero: string, complemento: string, bairro: string, cep: int, uf: string, municipio: int, ddd_1: string, telefone_1: string, ddd_2: string, telefone_2: string, ddd_do_fax: int, fax: string, correio_eletronico: string, situacao_especial: string, data_da_situacao_especial: date, razao_social_nome_empresarial: string, natureza_juridica: int, qualificacao_do_responsavel: int, capital_social_da_empresa: double, porte_da_empresa: int, ente_federativo_responsavel: string]"
            ]
          },
          "metadata": {},
          "execution_count": 90
        }
      ]
    },
    {
      "cell_type": "code",
      "source": [
        "freq = empresas_join\\\n",
        "    .select( 'cnpj_basico', year('data_de_inicio_atividade').alias('data_de_inicio'))\\\n",
        "    .where('data_de_inicio >= 2010')\\\n",
        "    .groupBy('data_de_inicio')\\\n",
        "    .agg(count(\"cnpj_basico\").alias(\"frequencia\"))\\\n",
        "    .orderBy('data_de_inicio', ascending=True)\n",
        "\n",
        "freq.show()"
      ],
      "metadata": {
        "id": "PqVsoOW9mJ9R",
        "outputId": "88156fcd-68dd-4149-ec0e-f24e17e6f4c7",
        "colab": {
          "base_uri": "https://localhost:8080/"
        }
      },
      "execution_count": 94,
      "outputs": [
        {
          "output_type": "stream",
          "name": "stdout",
          "text": [
            "+--------------+----------+\n",
            "|data_de_inicio|frequencia|\n",
            "+--------------+----------+\n",
            "|          2010|    154159|\n",
            "|          2011|    172677|\n",
            "|          2012|    232480|\n",
            "|          2013|    198424|\n",
            "|          2014|    202276|\n",
            "|          2015|    212523|\n",
            "|          2016|    265417|\n",
            "|          2017|    237292|\n",
            "|          2018|    275435|\n",
            "|          2019|    325922|\n",
            "|          2020|    400654|\n",
            "|          2021|    153275|\n",
            "+--------------+----------+\n",
            "\n"
          ]
        }
      ]
    },
    {
      "cell_type": "code",
      "source": [
        "#lit é pra escrever literalmente um valor\n",
        "freq.union(\n",
        "    freq.select(\n",
        "        lit('Total').alias('data_de_inicio'),\n",
        "        sum(freq.frequencia).alias('frequencia')   \n",
        "    )\n",
        ").show()"
      ],
      "metadata": {
        "id": "Wm7-0LRZnGSe",
        "outputId": "3c154cd0-3b6e-4516-9139-d477d2d24148",
        "colab": {
          "base_uri": "https://localhost:8080/"
        }
      },
      "execution_count": 96,
      "outputs": [
        {
          "output_type": "stream",
          "name": "stdout",
          "text": [
            "+--------------+----------+\n",
            "|data_de_inicio|frequencia|\n",
            "+--------------+----------+\n",
            "|          2010|    154159|\n",
            "|          2011|    172677|\n",
            "|          2012|    232480|\n",
            "|          2013|    198424|\n",
            "|          2014|    202276|\n",
            "|          2015|    212523|\n",
            "|          2016|    265417|\n",
            "|          2017|    237292|\n",
            "|          2018|    275435|\n",
            "|          2019|    325922|\n",
            "|          2020|    400654|\n",
            "|          2021|    153275|\n",
            "|         Total|   2830534|\n",
            "+--------------+----------+\n",
            "\n"
          ]
        }
      ]
    },
    {
      "cell_type": "markdown",
      "source": [
        "#SQL SessionSQL\n",
        "\n",
        "https://community.cloudera.com/t5/Community-Articles/Spark-RDDs-vs-DataFrames-vs-SparkSQL/ta-p/246547"
      ],
      "metadata": {
        "id": "5d2RW_FAoZ1y"
      }
    },
    {
      "cell_type": "code",
      "source": [
        "#criarar um view temporaria\n",
        "empresas.createOrReplaceTempView(\"empresasView\")"
      ],
      "metadata": {
        "id": "-YoNcM93nOe8"
      },
      "execution_count": 102,
      "outputs": []
    },
    {
      "cell_type": "code",
      "source": [
        "spark.sql(\"SELECT * FROM empresasView\").show(5)"
      ],
      "metadata": {
        "id": "4slnHdUyo0Ch",
        "outputId": "f3245766-1b18-4d14-8e03-73d2f9a8ad80",
        "colab": {
          "base_uri": "https://localhost:8080/"
        }
      },
      "execution_count": 103,
      "outputs": [
        {
          "output_type": "stream",
          "name": "stdout",
          "text": [
            "+-----------+-----------------------------+-----------------+---------------------------+-------------------------+----------------+---------------------------+\n",
            "|cnpj_basico|razao_social_nome_empresarial|natureza_juridica|qualificacao_do_responsavel|capital_social_da_empresa|porte_da_empresa|ente_federativo_responsavel|\n",
            "+-----------+-----------------------------+-----------------+---------------------------+-------------------------+----------------+---------------------------+\n",
            "|        306|         FRANCAMAR REFRIGE...|             2240|                         49|                      0.0|               1|                       null|\n",
            "|       1355|         BRASILEIRO & OLIV...|             2062|                         49|                      0.0|               5|                       null|\n",
            "|       4820|         REGISTRO DE IMOVE...|             3034|                         32|                      0.0|               5|                       null|\n",
            "|       5347|         ROSELY APARECIDA ...|             2135|                         50|                      0.0|               5|                       null|\n",
            "|       6846|         BADU E FILHOS TEC...|             2062|                         49|                   4000.0|               1|                       null|\n",
            "+-----------+-----------------------------+-----------------+---------------------------+-------------------------+----------------+---------------------------+\n",
            "only showing top 5 rows\n",
            "\n"
          ]
        }
      ]
    },
    {
      "cell_type": "code",
      "source": [
        "# aspas triplas permite pular linhas\n",
        "spark.sql(\"\"\"\n",
        "  SELECT * \n",
        "    FROM empresasView\n",
        "    WHERE capital_social_da_empresa = 50\n",
        "\"\"\").show(5)"
      ],
      "metadata": {
        "id": "0pTXDQCepPhE",
        "outputId": "a45ee4c6-c4c3-4bde-95d0-3376bba0c799",
        "colab": {
          "base_uri": "https://localhost:8080/"
        }
      },
      "execution_count": 105,
      "outputs": [
        {
          "output_type": "stream",
          "name": "stdout",
          "text": [
            "+-----------+-----------------------------+-----------------+---------------------------+-------------------------+----------------+---------------------------+\n",
            "|cnpj_basico|razao_social_nome_empresarial|natureza_juridica|qualificacao_do_responsavel|capital_social_da_empresa|porte_da_empresa|ente_federativo_responsavel|\n",
            "+-----------+-----------------------------+-----------------+---------------------------+-------------------------+----------------+---------------------------+\n",
            "|   17350147|         ERIK MARCELO DOS ...|             2135|                         50|                     50.0|               1|                       null|\n",
            "|   17833214|         ALEXANDRE MACHADO...|             2135|                         50|                     50.0|               1|                       null|\n",
            "|   20860830|         YASMIN MOURA DA F...|             2135|                         50|                     50.0|               1|                       null|\n",
            "|   22242856|         JOAO CESAR MESSIA...|             2135|                         50|                     50.0|               1|                       null|\n",
            "|   23238540|         EVERTON ROBERTO D...|             2135|                         50|                     50.0|               1|                       null|\n",
            "+-----------+-----------------------------+-----------------+---------------------------+-------------------------+----------------+---------------------------+\n",
            "only showing top 5 rows\n",
            "\n"
          ]
        }
      ]
    },
    {
      "cell_type": "code",
      "source": [
        "# grupo by com media\n",
        "spark.sql(\"\"\"\n",
        "        SELECT porte_da_empresa, MEAN(capital_social_da_empresa) AS Media \n",
        "            FROM empresasView \n",
        "            GROUP BY porte_da_empresa\n",
        "    \"\"\").show(5)"
      ],
      "metadata": {
        "id": "gEmV6VHhpsrG",
        "outputId": "39852c8d-eed6-4f71-f2c9-8abf7101c0de",
        "colab": {
          "base_uri": "https://localhost:8080/"
        }
      },
      "execution_count": 106,
      "outputs": [
        {
          "output_type": "stream",
          "name": "stdout",
          "text": [
            "+----------------+------------------+\n",
            "|porte_da_empresa|             Media|\n",
            "+----------------+------------------+\n",
            "|            null|  8.35421888053467|\n",
            "|               1|339994.53313506936|\n",
            "|               3|2601001.7677092673|\n",
            "|               5| 708660.4208249798|\n",
            "+----------------+------------------+\n",
            "\n"
          ]
        }
      ]
    },
    {
      "cell_type": "code",
      "source": [
        "empresas_join.createOrReplaceTempView(\"empresasJoinView\")"
      ],
      "metadata": {
        "id": "UDa2y600vWhK"
      },
      "execution_count": 107,
      "outputs": []
    },
    {
      "cell_type": "code",
      "source": [
        "freq = spark.sql(\"\"\"\n",
        "        SELECT YEAR(data_de_inicio_atividade) AS data_de_inicio, COUNT(cnpj_basico) AS count\n",
        "        FROM empresasJoinView \n",
        "        WHERE YEAR(data_de_inicio_atividade) >= 2010\n",
        "        GROUP BY data_de_inicio\n",
        "        ORDER BY data_de_inicio\n",
        "    \"\"\")\n",
        "freq.show()"
      ],
      "metadata": {
        "id": "s9sMEi7TvJR2",
        "outputId": "a0c99e2c-e86e-463b-b9f9-52769248f387",
        "colab": {
          "base_uri": "https://localhost:8080/"
        }
      },
      "execution_count": 110,
      "outputs": [
        {
          "output_type": "stream",
          "name": "stdout",
          "text": [
            "+--------------+------+\n",
            "|data_de_inicio| count|\n",
            "+--------------+------+\n",
            "|          2010|154159|\n",
            "|          2011|172677|\n",
            "|          2012|232480|\n",
            "|          2013|198424|\n",
            "|          2014|202276|\n",
            "|          2015|212523|\n",
            "|          2016|265417|\n",
            "|          2017|237292|\n",
            "|          2018|275435|\n",
            "|          2019|325922|\n",
            "|          2020|400654|\n",
            "|          2021|153275|\n",
            "+--------------+------+\n",
            "\n"
          ]
        }
      ]
    },
    {
      "cell_type": "code",
      "source": [
        "freq.createOrReplaceTempView(\"freqView\")"
      ],
      "metadata": {
        "id": "v0sLiD1xvbxs"
      },
      "execution_count": 111,
      "outputs": []
    },
    {
      "cell_type": "code",
      "source": [
        "#union\n",
        "spark.sql(\"\"\"\n",
        "        SELECT * FROM freqView \n",
        "        UNION ALL\n",
        "        SELECT 'Total' as data_de_inicio, SUM(count) as count FROM freqView\n",
        "    \"\"\").show()"
      ],
      "metadata": {
        "id": "dqbcz1GzplQc",
        "outputId": "970c29dd-eba4-4304-93b7-84f082464d6e",
        "colab": {
          "base_uri": "https://localhost:8080/"
        }
      },
      "execution_count": 114,
      "outputs": [
        {
          "output_type": "stream",
          "name": "stdout",
          "text": [
            "+--------------+-------+\n",
            "|data_de_inicio|  count|\n",
            "+--------------+-------+\n",
            "|          2010| 154159|\n",
            "|          2011| 172677|\n",
            "|          2012| 232480|\n",
            "|          2013| 198424|\n",
            "|          2014| 202276|\n",
            "|          2015| 212523|\n",
            "|          2016| 265417|\n",
            "|          2017| 237292|\n",
            "|          2018| 275435|\n",
            "|          2019| 325922|\n",
            "|          2020| 400654|\n",
            "|          2021| 153275|\n",
            "|         Total|2830534|\n",
            "+--------------+-------+\n",
            "\n"
          ]
        }
      ]
    },
    {
      "cell_type": "code",
      "source": [
        "empresas_join.createOrReplaceTempView(\"empresasJoinView\")\n",
        "spark.sql(\"\"\"\n",
        "SELECT YEAR(data_de_inicio_atividade) AS data_de_inicio, COUNT(cnpj_basico) AS count\n",
        "  FROM empresasJoinView \n",
        "  WHERE YEAR(data_de_inicio_atividade) >= 2010\n",
        "  GROUP BY data_de_inicio\n",
        "  ORDER BY data_de_inicio\n",
        "\"\"\").show()\n",
        "#ou\n",
        "empresas_join\\\n",
        "    .select(year(empresas_join.data_de_inicio_atividade).alias('data_de_inicio'))\\\n",
        "    .where(\"data_de_inicio >= 2010\")\\\n",
        "    .groupBy('data_de_inicio')\\\n",
        "    .count()\\\n",
        "    .orderBy('data_de_inicio')\\\n",
        "    .show()"
      ],
      "metadata": {
        "id": "odAKakK-p8Zj"
      },
      "execution_count": null,
      "outputs": []
    },
    {
      "cell_type": "markdown",
      "source": [
        "#Formar de Armazenamento"
      ],
      "metadata": {
        "id": "kRHBWhrUq9L2"
      }
    },
    {
      "cell_type": "markdown",
      "source": [
        "##csv\n",
        "https://spark.apache.org/docs/3.1.1/api/python/reference/api/pyspark.sql.DataFrameWriter.csv.html"
      ],
      "metadata": {
        "id": "gL5uAQkSzGmu"
      }
    },
    {
      "cell_type": "code",
      "source": [
        "#salvado CSV modo de sobreescrever o aquivo, inferSchema nao é obrigatorio\n",
        "empresas.write.csv(\n",
        "    path='/content/drive/MyDrive/Colab Notebooks/dado_spark/empresas/csv',\n",
        "    mode='overwrite',\n",
        "    sep=';',\n",
        "    header=True\n",
        ")"
      ],
      "metadata": {
        "id": "v9xyf2LmrBGj"
      },
      "execution_count": 160,
      "outputs": []
    },
    {
      "cell_type": "code",
      "source": [
        "#ler csv \n",
        "spark.read.csv(\n",
        "    path='/content/drive/MyDrive/Colab Notebooks/dado_spark/empresas/csv',\n",
        "    mode='overwrite',\n",
        "    inferSchema=True,\n",
        "    sep=';',\n",
        "    header=True\n",
        ").printSchema()"
      ],
      "metadata": {
        "id": "FtmXry1ev7GK",
        "outputId": "e2399832-f1e9-4251-f91a-1461cdfd04cc",
        "colab": {
          "base_uri": "https://localhost:8080/"
        }
      },
      "execution_count": 166,
      "outputs": [
        {
          "output_type": "stream",
          "name": "stdout",
          "text": [
            "root\n",
            " |-- cnpj_basico: integer (nullable = true)\n",
            " |-- razao_social_nome_empresarial: string (nullable = true)\n",
            " |-- natureza_juridica: integer (nullable = true)\n",
            " |-- qualificacao_do_responsavel: integer (nullable = true)\n",
            " |-- capital_social_da_empresa: double (nullable = true)\n",
            " |-- porte_da_empresa: integer (nullable = true)\n",
            " |-- ente_federativo_responsavel: string (nullable = true)\n",
            "\n"
          ]
        }
      ]
    },
    {
      "cell_type": "markdown",
      "source": [
        "## Apache Parquet \n",
        "é um formato de armazenamento colunar, a compressão por colunas é mais eficiente, e as queries que utilizam mais de uma coluna também são mais eficientes, disponível para todos os projetos que pertencem ao ecossistema do Hadoop, como o próprio Spark, Diferentemente dos modelos \"tradicionais\" de armazenamento que usam uma abordagem orientada por linhas. - https://parquet.apache.org/ https://spark.apache.org/docs/latest/api/python/reference/pyspark.sql/api/pyspark.sql.DataFrameWriter.parquet.html"
      ],
      "metadata": {
        "id": "bL1M69OfwRE-"
      }
    },
    {
      "cell_type": "code",
      "source": [
        "# salvar aquivo PARQUET mais rapido que o CSV e mais compactos\n",
        "empresas.write.parquet(\n",
        "    path='/content/drive/MyDrive/Colab Notebooks/dado_spark/empresas/parquet',\n",
        "    mode='overwrite'\n",
        ")"
      ],
      "metadata": {
        "id": "O3JBrf0qsFes"
      },
      "execution_count": 162,
      "outputs": []
    },
    {
      "cell_type": "code",
      "source": [
        "# leitura de parquet\n",
        "empresas_parquet = spark.read.parquet('/content/drive/MyDrive/Colab Notebooks/dado_spark/empresas/parquet')\n",
        "empresas_parquet.printSchema()"
      ],
      "metadata": {
        "id": "Ba-CAistvG1R",
        "outputId": "26c5c8f7-0cd3-4eb5-8727-dbdbd3b0518a",
        "colab": {
          "base_uri": "https://localhost:8080/"
        }
      },
      "execution_count": 165,
      "outputs": [
        {
          "output_type": "stream",
          "name": "stdout",
          "text": [
            "root\n",
            " |-- cnpj_basico: integer (nullable = true)\n",
            " |-- razao_social_nome_empresarial: string (nullable = true)\n",
            " |-- natureza_juridica: integer (nullable = true)\n",
            " |-- qualificacao_do_responsavel: integer (nullable = true)\n",
            " |-- capital_social_da_empresa: double (nullable = true)\n",
            " |-- porte_da_empresa: integer (nullable = true)\n",
            " |-- ente_federativo_responsavel: string (nullable = true)\n",
            "\n"
          ]
        }
      ]
    },
    {
      "cell_type": "markdown",
      "source": [
        "## Arquivos ORC\n",
        "projeto do ORC foi criado em 2013 como uma iniciativa de acelerar o Hive e reduzir o armazenamento no Hadoop.\n",
        "\n",
        "O foco era habilitar o processamento de alta velocidade e reduzir o tamanho dos arquivos.\n",
        "\n",
        "Assim como o PARQUET, ORC é um formato de arquivo colunar. Ele é otimizado para grandes leituras de streaming, mas com suporte integrado para localizar as linhas necessárias rapidamente. \n",
        "\n",
        " O armazenamento de dados em formato colunar permite ler, descompactar e processar apenas os valores necessários para a consulta.\n",
        "\n",
        "Muitos grandes usuários do Hadoop adotaram o ORC. Por exemplo, o Facebook usa ORC para salvar dezenas de petabytes em seu data warehouse e demonstrou que ORC é significativamente mais rápido do que RCFILE ou PARQUET.\n",
        "\n",
        "https://orc.apache.org/specification/\n",
        "\n",
        "https://spark.apache.org/docs/latest/api/python/reference/api/pyspark.sql.DataFrameWriter.orc.html\n"
      ],
      "metadata": {
        "id": "P61ziMjLxK1u"
      }
    },
    {
      "cell_type": "code",
      "source": [
        "# gravar em orc\n",
        "empresas.write.orc('/content/drive/MyDrive/Colab Notebooks/dado_spark/empresas/orc/')"
      ],
      "metadata": {
        "id": "xXQSMhiNxrmc"
      },
      "execution_count": 168,
      "outputs": []
    },
    {
      "cell_type": "code",
      "source": [
        "# ler orc\n",
        "spark.read.orc('/content/drive/MyDrive/Colab Notebooks/dado_spark/empresas/orc/').printSchema()"
      ],
      "metadata": {
        "id": "Mqa6wfqQxzfs",
        "outputId": "0c1bfe3b-05eb-4ea4-ff93-7259e9a68a8e",
        "colab": {
          "base_uri": "https://localhost:8080/"
        }
      },
      "execution_count": 169,
      "outputs": [
        {
          "output_type": "stream",
          "name": "stdout",
          "text": [
            "root\n",
            " |-- cnpj_basico: integer (nullable = true)\n",
            " |-- razao_social_nome_empresarial: string (nullable = true)\n",
            " |-- natureza_juridica: integer (nullable = true)\n",
            " |-- qualificacao_do_responsavel: integer (nullable = true)\n",
            " |-- capital_social_da_empresa: double (nullable = true)\n",
            " |-- porte_da_empresa: integer (nullable = true)\n",
            " |-- ente_federativo_responsavel: string (nullable = true)\n",
            "\n"
          ]
        }
      ]
    },
    {
      "cell_type": "markdown",
      "source": [
        "##Partição"
      ],
      "metadata": {
        "id": "dyQUor1AzUKC"
      }
    },
    {
      "cell_type": "code",
      "source": [
        "#coalesce so pode diminuir o numero de particoes\n",
        "empresas.coalesce(1).write.csv(\n",
        "    path='/content/drive/MyDrive/Colab Notebooks/dado_spark/empresas/csv_unico',\n",
        "    mode='overwrite',\n",
        "    sep=';',\n",
        "    header=True\n",
        ")"
      ],
      "metadata": {
        "id": "7J8nQPyCvOwI"
      },
      "execution_count": 171,
      "outputs": []
    },
    {
      "cell_type": "code",
      "source": [
        "#partitionBy segundo uma coluna nos valores \n",
        "empresas.write.parquet(\n",
        "    path='/content/drive/MyDrive/Colab Notebooks/dado_spark/empresas/parquet_partitionBy',\n",
        "    mode='overwrite',\n",
        "    partitionBy='porte_da_empresa'\n",
        ")"
      ],
      "metadata": {
        "id": "HBLLHVZeyuW3"
      },
      "execution_count": 41,
      "outputs": []
    },
    {
      "cell_type": "markdown",
      "source": [
        "#Encerrar o spark"
      ],
      "metadata": {
        "id": "K3Ew3tkq0Ues"
      }
    },
    {
      "cell_type": "code",
      "source": [
        "spark.stop()"
      ],
      "metadata": {
        "id": "w-cNHJJY0K12"
      },
      "execution_count": null,
      "outputs": []
    }
  ]
}